{
 "cells": [
  {
   "cell_type": "code",
   "execution_count": 1,
   "id": "1a1d331d",
   "metadata": {},
   "outputs": [
    {
     "name": "stdout",
     "output_type": "stream",
     "text": [
      "Core data file is: occurrence.txt\n"
     ]
    },
    {
     "name": "stderr",
     "output_type": "stream",
     "text": [
      "<ipython-input-1-b1c0a394494a>:9: DtypeWarning: Columns (2,9,26,35,39,42,46,47,54,56,57,58,59,60,62,64,65,66,68,69,70,73,74,75,76,78,80,81,82,83,84,85,86,87,88,92,93,94,95,97,99,103,104,105,106,107,108,110,111,112,113,115,116,117,118,119,121,122,123,124,125,126,127,128,129,130,131,133,136,137,138,139,141,142,143,144,145,146,147,148,149,150,152,153,154,155,156,157,158,159,160,161,162,164,165,166,167,168,169,170,171,172,173,174,175,176,177,178,179,180,181,183,184,185,186,187,188,189,196,200,201,202,204,205,211,212,213,214,217,218,219,220,224,225,226,227,228,233,237,239,240,241,242,243,244,245,246,247,248) have mixed types.Specify dtype option on import or set low_memory=False.\n",
      "  core_df = dwca.pd_read('occurrence.txt', parse_dates=True)\n",
      "<ipython-input-1-b1c0a394494a>:10: DtypeWarning: Columns (5,7,8,11) have mixed types.Specify dtype option on import or set low_memory=False.\n",
      "  im_df =dwca.pd_read('multimedia.txt', parse_dates=True)\n"
     ]
    }
   ],
   "source": [
    "from dwca.read import DwCAReader\n",
    "import pandas as pd\n",
    "import seaborn as sns\n",
    "import matplotlib.pyplot as plt\n",
    "\n",
    "\n",
    "with DwCAReader('mizip.zip') as dwca:\n",
    "    print(\"Core data file is: {}\".format(dwca.descriptor.core.file_location))\n",
    "    core_df = dwca.pd_read('occurrence.txt', parse_dates=True)\n",
    "    im_df =dwca.pd_read('multimedia.txt', parse_dates=True)"
   ]
  },
  {
   "cell_type": "code",
   "execution_count": 58,
   "id": "a17dfa27",
   "metadata": {},
   "outputs": [
    {
     "data": {
      "text/html": [
       "<div>\n",
       "<style scoped>\n",
       "    .dataframe tbody tr th:only-of-type {\n",
       "        vertical-align: middle;\n",
       "    }\n",
       "\n",
       "    .dataframe tbody tr th {\n",
       "        vertical-align: top;\n",
       "    }\n",
       "\n",
       "    .dataframe thead th {\n",
       "        text-align: right;\n",
       "    }\n",
       "</style>\n",
       "<table border=\"1\" class=\"dataframe\">\n",
       "  <thead>\n",
       "    <tr style=\"text-align: right;\">\n",
       "      <th></th>\n",
       "      <th>id</th>\n",
       "      <th>identifier</th>\n",
       "      <th>language</th>\n",
       "      <th>license</th>\n",
       "      <th>modified</th>\n",
       "      <th>publisher</th>\n",
       "      <th>references</th>\n",
       "      <th>rights</th>\n",
       "      <th>rightsHolder</th>\n",
       "      <th>institutionCode</th>\n",
       "      <th>...</th>\n",
       "      <th>lastParsed</th>\n",
       "      <th>lastCrawled</th>\n",
       "      <th>repatriated</th>\n",
       "      <th>level0Gid</th>\n",
       "      <th>level0Name</th>\n",
       "      <th>level1Gid</th>\n",
       "      <th>level1Name</th>\n",
       "      <th>level2Gid</th>\n",
       "      <th>level2Name</th>\n",
       "      <th>geodeticDatum</th>\n",
       "    </tr>\n",
       "  </thead>\n",
       "  <tbody>\n",
       "    <tr>\n",
       "      <th>0</th>\n",
       "      <td>2438770494</td>\n",
       "      <td>ba3e440c-c9a1-4fc4-a94e-ebb1fbbb6ea9</td>\n",
       "      <td>NaN</td>\n",
       "      <td>CC_BY_4_0</td>\n",
       "      <td>NaN</td>\n",
       "      <td>Australia's Virtual Herbarium</td>\n",
       "      <td>https://biocache.ala.org.au/occurrences/ba3e44...</td>\n",
       "      <td>NaN</td>\n",
       "      <td>NaN</td>\n",
       "      <td>MEL</td>\n",
       "      <td>...</td>\n",
       "      <td>2021-06-06T22:13:32.706Z</td>\n",
       "      <td>2021-06-06T21:56:24.463Z</td>\n",
       "      <td>false</td>\n",
       "      <td>AUS</td>\n",
       "      <td>Australia</td>\n",
       "      <td>AUS.10_1</td>\n",
       "      <td>Victoria</td>\n",
       "      <td>AUS.10.62_1</td>\n",
       "      <td>South Gippsland</td>\n",
       "      <td>WGS84</td>\n",
       "    </tr>\n",
       "    <tr>\n",
       "      <th>1</th>\n",
       "      <td>2434842541</td>\n",
       "      <td>10574b5b-709a-45e9-b34b-cad2ae2ee357</td>\n",
       "      <td>NaN</td>\n",
       "      <td>CC_BY_4_0</td>\n",
       "      <td>NaN</td>\n",
       "      <td>Australia's Virtual Herbarium</td>\n",
       "      <td>https://biocache.ala.org.au/occurrences/10574b...</td>\n",
       "      <td>NaN</td>\n",
       "      <td>NaN</td>\n",
       "      <td>MEL</td>\n",
       "      <td>...</td>\n",
       "      <td>2021-06-06T22:13:15.870Z</td>\n",
       "      <td>2021-06-06T21:56:24.463Z</td>\n",
       "      <td>false</td>\n",
       "      <td>AUS</td>\n",
       "      <td>Australia</td>\n",
       "      <td>AUS.10_1</td>\n",
       "      <td>Victoria</td>\n",
       "      <td>AUS.10.79_1</td>\n",
       "      <td>Yarra Ranges</td>\n",
       "      <td>WGS84</td>\n",
       "    </tr>\n",
       "    <tr>\n",
       "      <th>2</th>\n",
       "      <td>2435361192</td>\n",
       "      <td>2b5603c8-16af-4fa8-99a2-f516f0d8a6ec</td>\n",
       "      <td>NaN</td>\n",
       "      <td>CC_BY_4_0</td>\n",
       "      <td>NaN</td>\n",
       "      <td>Australia's Virtual Herbarium</td>\n",
       "      <td>https://biocache.ala.org.au/occurrences/2b5603...</td>\n",
       "      <td>NaN</td>\n",
       "      <td>NaN</td>\n",
       "      <td>MEL</td>\n",
       "      <td>...</td>\n",
       "      <td>2021-06-06T22:13:18.560Z</td>\n",
       "      <td>2021-06-06T21:56:24.463Z</td>\n",
       "      <td>true</td>\n",
       "      <td>NaN</td>\n",
       "      <td>NaN</td>\n",
       "      <td>NaN</td>\n",
       "      <td>NaN</td>\n",
       "      <td>NaN</td>\n",
       "      <td>NaN</td>\n",
       "      <td>WGS84</td>\n",
       "    </tr>\n",
       "    <tr>\n",
       "      <th>3</th>\n",
       "      <td>2438837736</td>\n",
       "      <td>ab5c24c4-0472-4732-8b9a-c7fad90d6670</td>\n",
       "      <td>NaN</td>\n",
       "      <td>CC_BY_4_0</td>\n",
       "      <td>NaN</td>\n",
       "      <td>Australia's Virtual Herbarium</td>\n",
       "      <td>https://biocache.ala.org.au/occurrences/ab5c24...</td>\n",
       "      <td>NaN</td>\n",
       "      <td>NaN</td>\n",
       "      <td>MEL</td>\n",
       "      <td>...</td>\n",
       "      <td>2021-06-06T22:13:34.213Z</td>\n",
       "      <td>2021-06-06T21:56:24.463Z</td>\n",
       "      <td>false</td>\n",
       "      <td>AUS</td>\n",
       "      <td>Australia</td>\n",
       "      <td>AUS.11_1</td>\n",
       "      <td>Western Australia</td>\n",
       "      <td>AUS.11.44_1</td>\n",
       "      <td>Dundas</td>\n",
       "      <td>WGS84</td>\n",
       "    </tr>\n",
       "    <tr>\n",
       "      <th>4</th>\n",
       "      <td>2438565508</td>\n",
       "      <td>bf8455ca-2b5e-473b-9b18-f5cb1262a29a</td>\n",
       "      <td>NaN</td>\n",
       "      <td>CC_BY_4_0</td>\n",
       "      <td>NaN</td>\n",
       "      <td>Australia's Virtual Herbarium</td>\n",
       "      <td>https://biocache.ala.org.au/occurrences/bf8455...</td>\n",
       "      <td>NaN</td>\n",
       "      <td>NaN</td>\n",
       "      <td>MEL</td>\n",
       "      <td>...</td>\n",
       "      <td>2021-06-06T22:13:36.078Z</td>\n",
       "      <td>2021-06-06T21:56:24.463Z</td>\n",
       "      <td>false</td>\n",
       "      <td>AUS</td>\n",
       "      <td>Australia</td>\n",
       "      <td>AUS.10_1</td>\n",
       "      <td>Victoria</td>\n",
       "      <td>AUS.10.79_1</td>\n",
       "      <td>Yarra Ranges</td>\n",
       "      <td>WGS84</td>\n",
       "    </tr>\n",
       "  </tbody>\n",
       "</table>\n",
       "<p>5 rows × 79 columns</p>\n",
       "</div>"
      ],
      "text/plain": [
       "           id                            identifier language    license  \\\n",
       "0  2438770494  ba3e440c-c9a1-4fc4-a94e-ebb1fbbb6ea9      NaN  CC_BY_4_0   \n",
       "1  2434842541  10574b5b-709a-45e9-b34b-cad2ae2ee357      NaN  CC_BY_4_0   \n",
       "2  2435361192  2b5603c8-16af-4fa8-99a2-f516f0d8a6ec      NaN  CC_BY_4_0   \n",
       "3  2438837736  ab5c24c4-0472-4732-8b9a-c7fad90d6670      NaN  CC_BY_4_0   \n",
       "4  2438565508  bf8455ca-2b5e-473b-9b18-f5cb1262a29a      NaN  CC_BY_4_0   \n",
       "\n",
       "  modified                      publisher  \\\n",
       "0      NaN  Australia's Virtual Herbarium   \n",
       "1      NaN  Australia's Virtual Herbarium   \n",
       "2      NaN  Australia's Virtual Herbarium   \n",
       "3      NaN  Australia's Virtual Herbarium   \n",
       "4      NaN  Australia's Virtual Herbarium   \n",
       "\n",
       "                                          references rights rightsHolder  \\\n",
       "0  https://biocache.ala.org.au/occurrences/ba3e44...    NaN          NaN   \n",
       "1  https://biocache.ala.org.au/occurrences/10574b...    NaN          NaN   \n",
       "2  https://biocache.ala.org.au/occurrences/2b5603...    NaN          NaN   \n",
       "3  https://biocache.ala.org.au/occurrences/ab5c24...    NaN          NaN   \n",
       "4  https://biocache.ala.org.au/occurrences/bf8455...    NaN          NaN   \n",
       "\n",
       "  institutionCode  ...                lastParsed               lastCrawled  \\\n",
       "0             MEL  ...  2021-06-06T22:13:32.706Z  2021-06-06T21:56:24.463Z   \n",
       "1             MEL  ...  2021-06-06T22:13:15.870Z  2021-06-06T21:56:24.463Z   \n",
       "2             MEL  ...  2021-06-06T22:13:18.560Z  2021-06-06T21:56:24.463Z   \n",
       "3             MEL  ...  2021-06-06T22:13:34.213Z  2021-06-06T21:56:24.463Z   \n",
       "4             MEL  ...  2021-06-06T22:13:36.078Z  2021-06-06T21:56:24.463Z   \n",
       "\n",
       "  repatriated level0Gid level0Name level1Gid         level1Name    level2Gid  \\\n",
       "0       false       AUS  Australia  AUS.10_1           Victoria  AUS.10.62_1   \n",
       "1       false       AUS  Australia  AUS.10_1           Victoria  AUS.10.79_1   \n",
       "2        true       NaN        NaN       NaN                NaN          NaN   \n",
       "3       false       AUS  Australia  AUS.11_1  Western Australia  AUS.11.44_1   \n",
       "4       false       AUS  Australia  AUS.10_1           Victoria  AUS.10.79_1   \n",
       "\n",
       "        level2Name  geodeticDatum  \n",
       "0  South Gippsland          WGS84  \n",
       "1     Yarra Ranges          WGS84  \n",
       "2              NaN          WGS84  \n",
       "3           Dundas          WGS84  \n",
       "4     Yarra Ranges          WGS84  \n",
       "\n",
       "[5 rows x 79 columns]"
      ]
     },
     "execution_count": 58,
     "metadata": {},
     "output_type": "execute_result"
    }
   ],
   "source": [
    "core_df.head()\n"
   ]
  },
  {
   "cell_type": "code",
   "execution_count": 26,
   "id": "56325750",
   "metadata": {},
   "outputs": [
    {
     "data": {
      "text/plain": [
       "(2505448, 10)"
      ]
     },
     "execution_count": 26,
     "metadata": {},
     "output_type": "execute_result"
    }
   ],
   "source": [
    "im_df.head()\n",
    "im_df.columns\n",
    "im_df.shape"
   ]
  },
  {
   "cell_type": "code",
   "execution_count": 25,
   "id": "5b87a8f5",
   "metadata": {},
   "outputs": [
    {
     "data": {
      "text/plain": [
       "(1355838,)"
      ]
     },
     "execution_count": 25,
     "metadata": {},
     "output_type": "execute_result"
    }
   ],
   "source": [
    "im_df.shape\n",
    "im_df['coreid'].unique().shape"
   ]
  },
  {
   "cell_type": "code",
   "execution_count": 20,
   "id": "67235b38",
   "metadata": {},
   "outputs": [
    {
     "data": {
      "text/plain": [
       "(1354629, 79)"
      ]
     },
     "execution_count": 20,
     "metadata": {},
     "output_type": "execute_result"
    }
   ],
   "source": [
    "core_df.shape"
   ]
  },
  {
   "cell_type": "code",
   "execution_count": 6,
   "id": "05d567d7",
   "metadata": {},
   "outputs": [
    {
     "data": {
      "text/plain": [
       "id                           0\n",
       "abstract               1354629\n",
       "accessRights           1300130\n",
       "accrualMethod          1354629\n",
       "accrualPeriodicity     1354629\n",
       "                        ...   \n",
       "level2Name              133539\n",
       "level3Gid              1153953\n",
       "level3Name             1189101\n",
       "iucnRedListCategory    1288222\n",
       "geodeticDatum                0\n",
       "Length: 251, dtype: int64"
      ]
     },
     "execution_count": 6,
     "metadata": {},
     "output_type": "execute_result"
    }
   ],
   "source": [
    "core_df.isna().sum()"
   ]
  },
  {
   "cell_type": "code",
   "execution_count": 8,
   "id": "932bc77b",
   "metadata": {},
   "outputs": [],
   "source": [
    "core_df=core_df.loc[:, core_df.isnull().mean() < .8]"
   ]
  },
  {
   "cell_type": "code",
   "execution_count": 11,
   "id": "dac83bd1",
   "metadata": {},
   "outputs": [
    {
     "data": {
      "text/plain": [
       "(1354629, 79)"
      ]
     },
     "execution_count": 11,
     "metadata": {},
     "output_type": "execute_result"
    }
   ],
   "source": [
    "core_df.shape\n",
    "1354629"
   ]
  },
  {
   "cell_type": "code",
   "execution_count": 9,
   "id": "1bc51945",
   "metadata": {},
   "outputs": [],
   "source": [
    "im_df=im_df.loc[:, im_df.isnull().mean() < .8]"
   ]
  },
  {
   "cell_type": "code",
   "execution_count": 10,
   "id": "cf2695d3",
   "metadata": {},
   "outputs": [
    {
     "data": {
      "text/plain": [
       "(2505448, 10)"
      ]
     },
     "execution_count": 10,
     "metadata": {},
     "output_type": "execute_result"
    }
   ],
   "source": [
    "im_df.shape"
   ]
  },
  {
   "cell_type": "code",
   "execution_count": 61,
   "id": "9e478ebc",
   "metadata": {},
   "outputs": [
    {
     "data": {
      "text/plain": [
       "(2503147, 25)"
      ]
     },
     "execution_count": 61,
     "metadata": {},
     "output_type": "execute_result"
    }
   ],
   "source": [
    "merged_df=core_df.merge(right=im_df, how='inner',left_on='id',right_on='coreid')\n",
    "merged_df.shape"
   ]
  },
  {
   "cell_type": "code",
   "execution_count": 49,
   "id": "9aae9b7c",
   "metadata": {},
   "outputs": [
    {
     "data": {
      "text/html": [
       "<div>\n",
       "<style scoped>\n",
       "    .dataframe tbody tr th:only-of-type {\n",
       "        vertical-align: middle;\n",
       "    }\n",
       "\n",
       "    .dataframe tbody tr th {\n",
       "        vertical-align: top;\n",
       "    }\n",
       "\n",
       "    .dataframe thead th {\n",
       "        text-align: right;\n",
       "    }\n",
       "</style>\n",
       "<table border=\"1\" class=\"dataframe\">\n",
       "  <thead>\n",
       "    <tr style=\"text-align: right;\">\n",
       "      <th></th>\n",
       "      <th>id</th>\n",
       "      <th>identifier_x</th>\n",
       "      <th>language</th>\n",
       "      <th>license_x</th>\n",
       "      <th>modified</th>\n",
       "      <th>publisher_x</th>\n",
       "      <th>references_x</th>\n",
       "      <th>rights</th>\n",
       "      <th>rightsHolder_x</th>\n",
       "      <th>institutionCode</th>\n",
       "      <th>...</th>\n",
       "      <th>coreid</th>\n",
       "      <th>type</th>\n",
       "      <th>format</th>\n",
       "      <th>identifier_y</th>\n",
       "      <th>references_y</th>\n",
       "      <th>created</th>\n",
       "      <th>creator</th>\n",
       "      <th>publisher_y</th>\n",
       "      <th>license_y</th>\n",
       "      <th>rightsHolder_y</th>\n",
       "    </tr>\n",
       "  </thead>\n",
       "  <tbody>\n",
       "    <tr>\n",
       "      <th>0</th>\n",
       "      <td>2438770494</td>\n",
       "      <td>ba3e440c-c9a1-4fc4-a94e-ebb1fbbb6ea9</td>\n",
       "      <td>NaN</td>\n",
       "      <td>CC_BY_4_0</td>\n",
       "      <td>NaN</td>\n",
       "      <td>Australia's Virtual Herbarium</td>\n",
       "      <td>https://biocache.ala.org.au/occurrences/ba3e44...</td>\n",
       "      <td>NaN</td>\n",
       "      <td>NaN</td>\n",
       "      <td>MEL</td>\n",
       "      <td>...</td>\n",
       "      <td>2438770494</td>\n",
       "      <td>StillImage</td>\n",
       "      <td>image/jpeg</td>\n",
       "      <td>https://images.ala.org.au/image/proxyImageThum...</td>\n",
       "      <td>https://images.ala.org.au/image/e8cbda8c-8c16-...</td>\n",
       "      <td>2020-06-06T12:55:56.554</td>\n",
       "      <td>Royal Botanic Gardens Victoria</td>\n",
       "      <td>NaN</td>\n",
       "      <td>http://creativecommons.org/licenses/by-nc-sa/4.0/</td>\n",
       "      <td>Royal Botanic Gardens Board</td>\n",
       "    </tr>\n",
       "    <tr>\n",
       "      <th>1</th>\n",
       "      <td>2438770494</td>\n",
       "      <td>ba3e440c-c9a1-4fc4-a94e-ebb1fbbb6ea9</td>\n",
       "      <td>NaN</td>\n",
       "      <td>CC_BY_4_0</td>\n",
       "      <td>NaN</td>\n",
       "      <td>Australia's Virtual Herbarium</td>\n",
       "      <td>https://biocache.ala.org.au/occurrences/ba3e44...</td>\n",
       "      <td>NaN</td>\n",
       "      <td>NaN</td>\n",
       "      <td>MEL</td>\n",
       "      <td>...</td>\n",
       "      <td>2438770494</td>\n",
       "      <td>StillImage</td>\n",
       "      <td>image/jpeg</td>\n",
       "      <td>https://images.ala.org.au/image/proxyImageThum...</td>\n",
       "      <td>https://images.ala.org.au/image/34e8d329-df42-...</td>\n",
       "      <td>2020-06-06T12:55:49.770</td>\n",
       "      <td>Royal Botanic Gardens Victoria</td>\n",
       "      <td>NaN</td>\n",
       "      <td>http://creativecommons.org/licenses/by-nc-sa/4.0/</td>\n",
       "      <td>Royal Botanic Gardens Board</td>\n",
       "    </tr>\n",
       "    <tr>\n",
       "      <th>2</th>\n",
       "      <td>2434842541</td>\n",
       "      <td>10574b5b-709a-45e9-b34b-cad2ae2ee357</td>\n",
       "      <td>NaN</td>\n",
       "      <td>CC_BY_4_0</td>\n",
       "      <td>NaN</td>\n",
       "      <td>Australia's Virtual Herbarium</td>\n",
       "      <td>https://biocache.ala.org.au/occurrences/10574b...</td>\n",
       "      <td>NaN</td>\n",
       "      <td>NaN</td>\n",
       "      <td>MEL</td>\n",
       "      <td>...</td>\n",
       "      <td>2434842541</td>\n",
       "      <td>StillImage</td>\n",
       "      <td>image/jpeg</td>\n",
       "      <td>https://images.ala.org.au/image/proxyImageThum...</td>\n",
       "      <td>https://images.ala.org.au/image/35be7c1e-85f6-...</td>\n",
       "      <td>2020-06-06T10:47:57.498</td>\n",
       "      <td>Royal Botanic Gardens Victoria</td>\n",
       "      <td>NaN</td>\n",
       "      <td>http://creativecommons.org/licenses/by-nc-sa/4.0/</td>\n",
       "      <td>Royal Botanic Gardens Board</td>\n",
       "    </tr>\n",
       "    <tr>\n",
       "      <th>3</th>\n",
       "      <td>2435361192</td>\n",
       "      <td>2b5603c8-16af-4fa8-99a2-f516f0d8a6ec</td>\n",
       "      <td>NaN</td>\n",
       "      <td>CC_BY_4_0</td>\n",
       "      <td>NaN</td>\n",
       "      <td>Australia's Virtual Herbarium</td>\n",
       "      <td>https://biocache.ala.org.au/occurrences/2b5603...</td>\n",
       "      <td>NaN</td>\n",
       "      <td>NaN</td>\n",
       "      <td>MEL</td>\n",
       "      <td>...</td>\n",
       "      <td>2435361192</td>\n",
       "      <td>StillImage</td>\n",
       "      <td>image/jpeg</td>\n",
       "      <td>https://images.ala.org.au/image/proxyImageThum...</td>\n",
       "      <td>https://images.ala.org.au/image/7b9cec27-862c-...</td>\n",
       "      <td>2020-06-06T09:42:51.401</td>\n",
       "      <td>Royal Botanic Gardens Victoria</td>\n",
       "      <td>NaN</td>\n",
       "      <td>http://creativecommons.org/licenses/by-nc-sa/4.0/</td>\n",
       "      <td>Royal Botanic Gardens Board</td>\n",
       "    </tr>\n",
       "    <tr>\n",
       "      <th>4</th>\n",
       "      <td>2438837736</td>\n",
       "      <td>ab5c24c4-0472-4732-8b9a-c7fad90d6670</td>\n",
       "      <td>NaN</td>\n",
       "      <td>CC_BY_4_0</td>\n",
       "      <td>NaN</td>\n",
       "      <td>Australia's Virtual Herbarium</td>\n",
       "      <td>https://biocache.ala.org.au/occurrences/ab5c24...</td>\n",
       "      <td>NaN</td>\n",
       "      <td>NaN</td>\n",
       "      <td>MEL</td>\n",
       "      <td>...</td>\n",
       "      <td>2438837736</td>\n",
       "      <td>StillImage</td>\n",
       "      <td>image/jpeg</td>\n",
       "      <td>https://images.ala.org.au/image/proxyImageThum...</td>\n",
       "      <td>https://images.ala.org.au/image/efbdb5af-79b2-...</td>\n",
       "      <td>2020-06-04T18:07:15.442</td>\n",
       "      <td>Royal Botanic Gardens Victoria</td>\n",
       "      <td>NaN</td>\n",
       "      <td>http://creativecommons.org/licenses/by-nc-sa/4.0/</td>\n",
       "      <td>Royal Botanic Gardens Board</td>\n",
       "    </tr>\n",
       "  </tbody>\n",
       "</table>\n",
       "<p>5 rows × 89 columns</p>\n",
       "</div>"
      ],
      "text/plain": [
       "           id                          identifier_x language  license_x  \\\n",
       "0  2438770494  ba3e440c-c9a1-4fc4-a94e-ebb1fbbb6ea9      NaN  CC_BY_4_0   \n",
       "1  2438770494  ba3e440c-c9a1-4fc4-a94e-ebb1fbbb6ea9      NaN  CC_BY_4_0   \n",
       "2  2434842541  10574b5b-709a-45e9-b34b-cad2ae2ee357      NaN  CC_BY_4_0   \n",
       "3  2435361192  2b5603c8-16af-4fa8-99a2-f516f0d8a6ec      NaN  CC_BY_4_0   \n",
       "4  2438837736  ab5c24c4-0472-4732-8b9a-c7fad90d6670      NaN  CC_BY_4_0   \n",
       "\n",
       "  modified                    publisher_x  \\\n",
       "0      NaN  Australia's Virtual Herbarium   \n",
       "1      NaN  Australia's Virtual Herbarium   \n",
       "2      NaN  Australia's Virtual Herbarium   \n",
       "3      NaN  Australia's Virtual Herbarium   \n",
       "4      NaN  Australia's Virtual Herbarium   \n",
       "\n",
       "                                        references_x rights rightsHolder_x  \\\n",
       "0  https://biocache.ala.org.au/occurrences/ba3e44...    NaN            NaN   \n",
       "1  https://biocache.ala.org.au/occurrences/ba3e44...    NaN            NaN   \n",
       "2  https://biocache.ala.org.au/occurrences/10574b...    NaN            NaN   \n",
       "3  https://biocache.ala.org.au/occurrences/2b5603...    NaN            NaN   \n",
       "4  https://biocache.ala.org.au/occurrences/ab5c24...    NaN            NaN   \n",
       "\n",
       "  institutionCode  ...      coreid        type      format  \\\n",
       "0             MEL  ...  2438770494  StillImage  image/jpeg   \n",
       "1             MEL  ...  2438770494  StillImage  image/jpeg   \n",
       "2             MEL  ...  2434842541  StillImage  image/jpeg   \n",
       "3             MEL  ...  2435361192  StillImage  image/jpeg   \n",
       "4             MEL  ...  2438837736  StillImage  image/jpeg   \n",
       "\n",
       "                                        identifier_y  \\\n",
       "0  https://images.ala.org.au/image/proxyImageThum...   \n",
       "1  https://images.ala.org.au/image/proxyImageThum...   \n",
       "2  https://images.ala.org.au/image/proxyImageThum...   \n",
       "3  https://images.ala.org.au/image/proxyImageThum...   \n",
       "4  https://images.ala.org.au/image/proxyImageThum...   \n",
       "\n",
       "                                        references_y                  created  \\\n",
       "0  https://images.ala.org.au/image/e8cbda8c-8c16-...  2020-06-06T12:55:56.554   \n",
       "1  https://images.ala.org.au/image/34e8d329-df42-...  2020-06-06T12:55:49.770   \n",
       "2  https://images.ala.org.au/image/35be7c1e-85f6-...  2020-06-06T10:47:57.498   \n",
       "3  https://images.ala.org.au/image/7b9cec27-862c-...  2020-06-06T09:42:51.401   \n",
       "4  https://images.ala.org.au/image/efbdb5af-79b2-...  2020-06-04T18:07:15.442   \n",
       "\n",
       "                          creator publisher_y  \\\n",
       "0  Royal Botanic Gardens Victoria         NaN   \n",
       "1  Royal Botanic Gardens Victoria         NaN   \n",
       "2  Royal Botanic Gardens Victoria         NaN   \n",
       "3  Royal Botanic Gardens Victoria         NaN   \n",
       "4  Royal Botanic Gardens Victoria         NaN   \n",
       "\n",
       "                                           license_y  \\\n",
       "0  http://creativecommons.org/licenses/by-nc-sa/4.0/   \n",
       "1  http://creativecommons.org/licenses/by-nc-sa/4.0/   \n",
       "2  http://creativecommons.org/licenses/by-nc-sa/4.0/   \n",
       "3  http://creativecommons.org/licenses/by-nc-sa/4.0/   \n",
       "4  http://creativecommons.org/licenses/by-nc-sa/4.0/   \n",
       "\n",
       "                rightsHolder_y  \n",
       "0  Royal Botanic Gardens Board  \n",
       "1  Royal Botanic Gardens Board  \n",
       "2  Royal Botanic Gardens Board  \n",
       "3  Royal Botanic Gardens Board  \n",
       "4  Royal Botanic Gardens Board  \n",
       "\n",
       "[5 rows x 89 columns]"
      ]
     },
     "execution_count": 49,
     "metadata": {},
     "output_type": "execute_result"
    }
   ],
   "source": [
    "merged_df.head()"
   ]
  },
  {
   "cell_type": "code",
   "execution_count": 50,
   "id": "bf7112f3",
   "metadata": {},
   "outputs": [
    {
     "data": {
      "text/plain": [
       "2883121345    69\n",
       "1838349647    62\n",
       "3314449316    48\n",
       "2883137351    43\n",
       "3097147110    39\n",
       "              ..\n",
       "1929816147     1\n",
       "1929816312     1\n",
       "1929816407     1\n",
       "1929816567     1\n",
       "3340176472     1\n",
       "Name: coreid, Length: 1355838, dtype: int64"
      ]
     },
     "execution_count": 50,
     "metadata": {},
     "output_type": "execute_result"
    }
   ],
   "source": [
    "im_df['coreid'].value_counts()"
   ]
  },
  {
   "cell_type": "code",
   "execution_count": 51,
   "id": "39f09267",
   "metadata": {},
   "outputs": [
    {
     "data": {
      "text/plain": [
       "1380303    https://www.inaturalist.org/photos/57843160\n",
       "1380304    https://www.inaturalist.org/photos/57843242\n",
       "1380305    https://www.inaturalist.org/photos/57843175\n",
       "1380306    https://www.inaturalist.org/photos/57843193\n",
       "1380307    https://www.inaturalist.org/photos/57843200\n",
       "                              ...                     \n",
       "1380367    https://www.inaturalist.org/photos/57843213\n",
       "1380368    https://www.inaturalist.org/photos/57843150\n",
       "1380369    https://www.inaturalist.org/photos/57843212\n",
       "1380370    https://www.inaturalist.org/photos/57843253\n",
       "1380371    https://www.inaturalist.org/photos/57843142\n",
       "Name: references, Length: 69, dtype: object"
      ]
     },
     "execution_count": 51,
     "metadata": {},
     "output_type": "execute_result"
    }
   ],
   "source": [
    "im_df[im_df['coreid']==2883121345]['references']"
   ]
  },
  {
   "cell_type": "code",
   "execution_count": 52,
   "id": "b6367a12",
   "metadata": {},
   "outputs": [
    {
     "data": {
      "text/plain": [
       "(1354629,)"
      ]
     },
     "execution_count": 52,
     "metadata": {},
     "output_type": "execute_result"
    }
   ],
   "source": [
    "merged_df['id'].unique().shape"
   ]
  },
  {
   "cell_type": "code",
   "execution_count": 64,
   "id": "7e09043b",
   "metadata": {},
   "outputs": [],
   "source": [
    "merged_df.to_csv('merged_bast.csv')"
   ]
  },
  {
   "cell_type": "code",
   "execution_count": 56,
   "id": "816e49e1",
   "metadata": {},
   "outputs": [
    {
     "data": {
      "text/plain": [
       "Index(['id', 'identifier', 'language', 'license', 'modified', 'publisher',\n",
       "       'references', 'rights', 'rightsHolder', 'institutionCode',\n",
       "       'collectionCode', 'datasetName', 'basisOfRecord', 'occurrenceID',\n",
       "       'catalogNumber', 'recordedBy', 'occurrenceStatus', 'eventDate',\n",
       "       'eventTime', 'year', 'month', 'day', 'verbatimEventDate', 'habitat',\n",
       "       'locationID', 'continent', 'countryCode', 'stateProvince', 'locality',\n",
       "       'verbatimLocality', 'decimalLatitude', 'decimalLongitude',\n",
       "       'coordinateUncertaintyInMeters', 'identificationID', 'identifiedBy',\n",
       "       'dateIdentified', 'taxonID', 'acceptedNameUsageID', 'scientificName',\n",
       "       'kingdom', 'phylum', 'class', 'order', 'family', 'genus',\n",
       "       'specificEpithet', 'taxonRank', 'taxonomicStatus', 'datasetKey',\n",
       "       'publishingCountry', 'lastInterpreted', 'issue', 'mediaType',\n",
       "       'hasCoordinate', 'hasGeospatialIssues', 'taxonKey', 'acceptedTaxonKey',\n",
       "       'kingdomKey', 'phylumKey', 'classKey', 'orderKey', 'familyKey',\n",
       "       'genusKey', 'speciesKey', 'species', 'genericName',\n",
       "       'acceptedScientificName', 'verbatimScientificName', 'protocol',\n",
       "       'lastParsed', 'lastCrawled', 'repatriated', 'level0Gid', 'level0Name',\n",
       "       'level1Gid', 'level1Name', 'level2Gid', 'level2Name', 'geodeticDatum'],\n",
       "      dtype='object')"
      ]
     },
     "execution_count": 56,
     "metadata": {},
     "output_type": "execute_result"
    }
   ],
   "source": [
    "core_df.columns"
   ]
  },
  {
   "cell_type": "code",
   "execution_count": 59,
   "id": "7aef9d97",
   "metadata": {},
   "outputs": [],
   "source": [
    "core_df=core_df[['id','identifier','kingdom','phylum','class','order','family','genus','species','verbatimScientificName','countryCode','stateProvince','decimalLatitude','decimalLongitude','hasCoordinate']]"
   ]
  },
  {
   "cell_type": "code",
   "execution_count": 60,
   "id": "55b8b258",
   "metadata": {},
   "outputs": [
    {
     "data": {
      "text/html": [
       "<div>\n",
       "<style scoped>\n",
       "    .dataframe tbody tr th:only-of-type {\n",
       "        vertical-align: middle;\n",
       "    }\n",
       "\n",
       "    .dataframe tbody tr th {\n",
       "        vertical-align: top;\n",
       "    }\n",
       "\n",
       "    .dataframe thead th {\n",
       "        text-align: right;\n",
       "    }\n",
       "</style>\n",
       "<table border=\"1\" class=\"dataframe\">\n",
       "  <thead>\n",
       "    <tr style=\"text-align: right;\">\n",
       "      <th></th>\n",
       "      <th>id</th>\n",
       "      <th>identifier</th>\n",
       "      <th>kingdom</th>\n",
       "      <th>phylum</th>\n",
       "      <th>class</th>\n",
       "      <th>order</th>\n",
       "      <th>family</th>\n",
       "      <th>genus</th>\n",
       "      <th>species</th>\n",
       "      <th>verbatimScientificName</th>\n",
       "      <th>countryCode</th>\n",
       "      <th>stateProvince</th>\n",
       "      <th>decimalLatitude</th>\n",
       "      <th>decimalLongitude</th>\n",
       "      <th>hasCoordinate</th>\n",
       "    </tr>\n",
       "  </thead>\n",
       "  <tbody>\n",
       "    <tr>\n",
       "      <th>0</th>\n",
       "      <td>2438770494</td>\n",
       "      <td>ba3e440c-c9a1-4fc4-a94e-ebb1fbbb6ea9</td>\n",
       "      <td>Fungi</td>\n",
       "      <td>Basidiomycota</td>\n",
       "      <td>Agaricomycetes</td>\n",
       "      <td>Agaricales</td>\n",
       "      <td>Hygrophoraceae</td>\n",
       "      <td>Hygrocybe</td>\n",
       "      <td>Hygrocybe hypospoda</td>\n",
       "      <td>Hygrocybe hypospoda</td>\n",
       "      <td>AU</td>\n",
       "      <td>Victoria</td>\n",
       "      <td>-39.020600</td>\n",
       "      <td>146.3361</td>\n",
       "      <td>True</td>\n",
       "    </tr>\n",
       "    <tr>\n",
       "      <th>1</th>\n",
       "      <td>2434842541</td>\n",
       "      <td>10574b5b-709a-45e9-b34b-cad2ae2ee357</td>\n",
       "      <td>Fungi</td>\n",
       "      <td>Basidiomycota</td>\n",
       "      <td>Agaricomycetes</td>\n",
       "      <td>Agaricales</td>\n",
       "      <td>Mycenaceae</td>\n",
       "      <td>Mycena</td>\n",
       "      <td>Mycena mulawaestris</td>\n",
       "      <td>Mycena mulawaestris</td>\n",
       "      <td>AU</td>\n",
       "      <td>Victoria</td>\n",
       "      <td>-37.666667</td>\n",
       "      <td>145.733333</td>\n",
       "      <td>True</td>\n",
       "    </tr>\n",
       "    <tr>\n",
       "      <th>2</th>\n",
       "      <td>2435361192</td>\n",
       "      <td>2b5603c8-16af-4fa8-99a2-f516f0d8a6ec</td>\n",
       "      <td>Fungi</td>\n",
       "      <td>Basidiomycota</td>\n",
       "      <td>Agaricomycetes</td>\n",
       "      <td>Russulales</td>\n",
       "      <td>Bondarzewiaceae</td>\n",
       "      <td>Amylosporus</td>\n",
       "      <td>Amylosporus campbellii</td>\n",
       "      <td>Amylosporus campbellii</td>\n",
       "      <td>MM</td>\n",
       "      <td>NaN</td>\n",
       "      <td>NaN</td>\n",
       "      <td>NaN</td>\n",
       "      <td>False</td>\n",
       "    </tr>\n",
       "    <tr>\n",
       "      <th>3</th>\n",
       "      <td>2438837736</td>\n",
       "      <td>ab5c24c4-0472-4732-8b9a-c7fad90d6670</td>\n",
       "      <td>Fungi</td>\n",
       "      <td>Basidiomycota</td>\n",
       "      <td>Agaricomycetes</td>\n",
       "      <td>Agaricales</td>\n",
       "      <td>Agaricaceae</td>\n",
       "      <td>Barcheria</td>\n",
       "      <td>Barcheria willisiana</td>\n",
       "      <td>Barcheria willisiana</td>\n",
       "      <td>AU</td>\n",
       "      <td>Western Australia</td>\n",
       "      <td>-32.176100</td>\n",
       "      <td>121.3997</td>\n",
       "      <td>True</td>\n",
       "    </tr>\n",
       "    <tr>\n",
       "      <th>4</th>\n",
       "      <td>2438565508</td>\n",
       "      <td>bf8455ca-2b5e-473b-9b18-f5cb1262a29a</td>\n",
       "      <td>Fungi</td>\n",
       "      <td>Basidiomycota</td>\n",
       "      <td>Agaricomycetes</td>\n",
       "      <td>Gomphales</td>\n",
       "      <td>Clavariadelphaceae</td>\n",
       "      <td>Beenakia</td>\n",
       "      <td>Beenakia dacostae</td>\n",
       "      <td>Beenakia dacostae</td>\n",
       "      <td>AU</td>\n",
       "      <td>Victoria</td>\n",
       "      <td>-37.850000</td>\n",
       "      <td>145.7</td>\n",
       "      <td>True</td>\n",
       "    </tr>\n",
       "  </tbody>\n",
       "</table>\n",
       "</div>"
      ],
      "text/plain": [
       "           id                            identifier kingdom         phylum  \\\n",
       "0  2438770494  ba3e440c-c9a1-4fc4-a94e-ebb1fbbb6ea9   Fungi  Basidiomycota   \n",
       "1  2434842541  10574b5b-709a-45e9-b34b-cad2ae2ee357   Fungi  Basidiomycota   \n",
       "2  2435361192  2b5603c8-16af-4fa8-99a2-f516f0d8a6ec   Fungi  Basidiomycota   \n",
       "3  2438837736  ab5c24c4-0472-4732-8b9a-c7fad90d6670   Fungi  Basidiomycota   \n",
       "4  2438565508  bf8455ca-2b5e-473b-9b18-f5cb1262a29a   Fungi  Basidiomycota   \n",
       "\n",
       "            class       order              family        genus  \\\n",
       "0  Agaricomycetes  Agaricales      Hygrophoraceae    Hygrocybe   \n",
       "1  Agaricomycetes  Agaricales          Mycenaceae       Mycena   \n",
       "2  Agaricomycetes  Russulales     Bondarzewiaceae  Amylosporus   \n",
       "3  Agaricomycetes  Agaricales         Agaricaceae    Barcheria   \n",
       "4  Agaricomycetes   Gomphales  Clavariadelphaceae     Beenakia   \n",
       "\n",
       "                  species  verbatimScientificName countryCode  \\\n",
       "0     Hygrocybe hypospoda     Hygrocybe hypospoda          AU   \n",
       "1     Mycena mulawaestris     Mycena mulawaestris          AU   \n",
       "2  Amylosporus campbellii  Amylosporus campbellii          MM   \n",
       "3    Barcheria willisiana    Barcheria willisiana          AU   \n",
       "4       Beenakia dacostae       Beenakia dacostae          AU   \n",
       "\n",
       "       stateProvince  decimalLatitude decimalLongitude hasCoordinate  \n",
       "0           Victoria       -39.020600         146.3361          True  \n",
       "1           Victoria       -37.666667       145.733333          True  \n",
       "2                NaN              NaN              NaN         False  \n",
       "3  Western Australia       -32.176100         121.3997          True  \n",
       "4           Victoria       -37.850000            145.7          True  "
      ]
     },
     "execution_count": 60,
     "metadata": {},
     "output_type": "execute_result"
    }
   ],
   "source": [
    "core_df.head()"
   ]
  },
  {
   "cell_type": "code",
   "execution_count": 65,
   "id": "a9326480",
   "metadata": {},
   "outputs": [
    {
     "data": {
      "text/html": [
       "<div>\n",
       "<style scoped>\n",
       "    .dataframe tbody tr th:only-of-type {\n",
       "        vertical-align: middle;\n",
       "    }\n",
       "\n",
       "    .dataframe tbody tr th {\n",
       "        vertical-align: top;\n",
       "    }\n",
       "\n",
       "    .dataframe thead th {\n",
       "        text-align: right;\n",
       "    }\n",
       "</style>\n",
       "<table border=\"1\" class=\"dataframe\">\n",
       "  <thead>\n",
       "    <tr style=\"text-align: right;\">\n",
       "      <th></th>\n",
       "      <th>id</th>\n",
       "      <th>identifier_x</th>\n",
       "      <th>kingdom</th>\n",
       "      <th>phylum</th>\n",
       "      <th>class</th>\n",
       "      <th>order</th>\n",
       "      <th>family</th>\n",
       "      <th>genus</th>\n",
       "      <th>species</th>\n",
       "      <th>verbatimScientificName</th>\n",
       "      <th>...</th>\n",
       "      <th>coreid</th>\n",
       "      <th>type</th>\n",
       "      <th>format</th>\n",
       "      <th>identifier_y</th>\n",
       "      <th>references</th>\n",
       "      <th>created</th>\n",
       "      <th>creator</th>\n",
       "      <th>publisher</th>\n",
       "      <th>license</th>\n",
       "      <th>rightsHolder</th>\n",
       "    </tr>\n",
       "  </thead>\n",
       "  <tbody>\n",
       "    <tr>\n",
       "      <th>0</th>\n",
       "      <td>2438770494</td>\n",
       "      <td>ba3e440c-c9a1-4fc4-a94e-ebb1fbbb6ea9</td>\n",
       "      <td>Fungi</td>\n",
       "      <td>Basidiomycota</td>\n",
       "      <td>Agaricomycetes</td>\n",
       "      <td>Agaricales</td>\n",
       "      <td>Hygrophoraceae</td>\n",
       "      <td>Hygrocybe</td>\n",
       "      <td>Hygrocybe hypospoda</td>\n",
       "      <td>Hygrocybe hypospoda</td>\n",
       "      <td>...</td>\n",
       "      <td>2438770494</td>\n",
       "      <td>StillImage</td>\n",
       "      <td>image/jpeg</td>\n",
       "      <td>https://images.ala.org.au/image/proxyImageThum...</td>\n",
       "      <td>https://images.ala.org.au/image/e8cbda8c-8c16-...</td>\n",
       "      <td>2020-06-06T12:55:56.554</td>\n",
       "      <td>Royal Botanic Gardens Victoria</td>\n",
       "      <td>NaN</td>\n",
       "      <td>http://creativecommons.org/licenses/by-nc-sa/4.0/</td>\n",
       "      <td>Royal Botanic Gardens Board</td>\n",
       "    </tr>\n",
       "    <tr>\n",
       "      <th>1</th>\n",
       "      <td>2438770494</td>\n",
       "      <td>ba3e440c-c9a1-4fc4-a94e-ebb1fbbb6ea9</td>\n",
       "      <td>Fungi</td>\n",
       "      <td>Basidiomycota</td>\n",
       "      <td>Agaricomycetes</td>\n",
       "      <td>Agaricales</td>\n",
       "      <td>Hygrophoraceae</td>\n",
       "      <td>Hygrocybe</td>\n",
       "      <td>Hygrocybe hypospoda</td>\n",
       "      <td>Hygrocybe hypospoda</td>\n",
       "      <td>...</td>\n",
       "      <td>2438770494</td>\n",
       "      <td>StillImage</td>\n",
       "      <td>image/jpeg</td>\n",
       "      <td>https://images.ala.org.au/image/proxyImageThum...</td>\n",
       "      <td>https://images.ala.org.au/image/34e8d329-df42-...</td>\n",
       "      <td>2020-06-06T12:55:49.770</td>\n",
       "      <td>Royal Botanic Gardens Victoria</td>\n",
       "      <td>NaN</td>\n",
       "      <td>http://creativecommons.org/licenses/by-nc-sa/4.0/</td>\n",
       "      <td>Royal Botanic Gardens Board</td>\n",
       "    </tr>\n",
       "    <tr>\n",
       "      <th>2</th>\n",
       "      <td>2434842541</td>\n",
       "      <td>10574b5b-709a-45e9-b34b-cad2ae2ee357</td>\n",
       "      <td>Fungi</td>\n",
       "      <td>Basidiomycota</td>\n",
       "      <td>Agaricomycetes</td>\n",
       "      <td>Agaricales</td>\n",
       "      <td>Mycenaceae</td>\n",
       "      <td>Mycena</td>\n",
       "      <td>Mycena mulawaestris</td>\n",
       "      <td>Mycena mulawaestris</td>\n",
       "      <td>...</td>\n",
       "      <td>2434842541</td>\n",
       "      <td>StillImage</td>\n",
       "      <td>image/jpeg</td>\n",
       "      <td>https://images.ala.org.au/image/proxyImageThum...</td>\n",
       "      <td>https://images.ala.org.au/image/35be7c1e-85f6-...</td>\n",
       "      <td>2020-06-06T10:47:57.498</td>\n",
       "      <td>Royal Botanic Gardens Victoria</td>\n",
       "      <td>NaN</td>\n",
       "      <td>http://creativecommons.org/licenses/by-nc-sa/4.0/</td>\n",
       "      <td>Royal Botanic Gardens Board</td>\n",
       "    </tr>\n",
       "    <tr>\n",
       "      <th>3</th>\n",
       "      <td>2435361192</td>\n",
       "      <td>2b5603c8-16af-4fa8-99a2-f516f0d8a6ec</td>\n",
       "      <td>Fungi</td>\n",
       "      <td>Basidiomycota</td>\n",
       "      <td>Agaricomycetes</td>\n",
       "      <td>Russulales</td>\n",
       "      <td>Bondarzewiaceae</td>\n",
       "      <td>Amylosporus</td>\n",
       "      <td>Amylosporus campbellii</td>\n",
       "      <td>Amylosporus campbellii</td>\n",
       "      <td>...</td>\n",
       "      <td>2435361192</td>\n",
       "      <td>StillImage</td>\n",
       "      <td>image/jpeg</td>\n",
       "      <td>https://images.ala.org.au/image/proxyImageThum...</td>\n",
       "      <td>https://images.ala.org.au/image/7b9cec27-862c-...</td>\n",
       "      <td>2020-06-06T09:42:51.401</td>\n",
       "      <td>Royal Botanic Gardens Victoria</td>\n",
       "      <td>NaN</td>\n",
       "      <td>http://creativecommons.org/licenses/by-nc-sa/4.0/</td>\n",
       "      <td>Royal Botanic Gardens Board</td>\n",
       "    </tr>\n",
       "    <tr>\n",
       "      <th>4</th>\n",
       "      <td>2438837736</td>\n",
       "      <td>ab5c24c4-0472-4732-8b9a-c7fad90d6670</td>\n",
       "      <td>Fungi</td>\n",
       "      <td>Basidiomycota</td>\n",
       "      <td>Agaricomycetes</td>\n",
       "      <td>Agaricales</td>\n",
       "      <td>Agaricaceae</td>\n",
       "      <td>Barcheria</td>\n",
       "      <td>Barcheria willisiana</td>\n",
       "      <td>Barcheria willisiana</td>\n",
       "      <td>...</td>\n",
       "      <td>2438837736</td>\n",
       "      <td>StillImage</td>\n",
       "      <td>image/jpeg</td>\n",
       "      <td>https://images.ala.org.au/image/proxyImageThum...</td>\n",
       "      <td>https://images.ala.org.au/image/efbdb5af-79b2-...</td>\n",
       "      <td>2020-06-04T18:07:15.442</td>\n",
       "      <td>Royal Botanic Gardens Victoria</td>\n",
       "      <td>NaN</td>\n",
       "      <td>http://creativecommons.org/licenses/by-nc-sa/4.0/</td>\n",
       "      <td>Royal Botanic Gardens Board</td>\n",
       "    </tr>\n",
       "  </tbody>\n",
       "</table>\n",
       "<p>5 rows × 25 columns</p>\n",
       "</div>"
      ],
      "text/plain": [
       "           id                          identifier_x kingdom         phylum  \\\n",
       "0  2438770494  ba3e440c-c9a1-4fc4-a94e-ebb1fbbb6ea9   Fungi  Basidiomycota   \n",
       "1  2438770494  ba3e440c-c9a1-4fc4-a94e-ebb1fbbb6ea9   Fungi  Basidiomycota   \n",
       "2  2434842541  10574b5b-709a-45e9-b34b-cad2ae2ee357   Fungi  Basidiomycota   \n",
       "3  2435361192  2b5603c8-16af-4fa8-99a2-f516f0d8a6ec   Fungi  Basidiomycota   \n",
       "4  2438837736  ab5c24c4-0472-4732-8b9a-c7fad90d6670   Fungi  Basidiomycota   \n",
       "\n",
       "            class       order           family        genus  \\\n",
       "0  Agaricomycetes  Agaricales   Hygrophoraceae    Hygrocybe   \n",
       "1  Agaricomycetes  Agaricales   Hygrophoraceae    Hygrocybe   \n",
       "2  Agaricomycetes  Agaricales       Mycenaceae       Mycena   \n",
       "3  Agaricomycetes  Russulales  Bondarzewiaceae  Amylosporus   \n",
       "4  Agaricomycetes  Agaricales      Agaricaceae    Barcheria   \n",
       "\n",
       "                  species  verbatimScientificName  ...      coreid  \\\n",
       "0     Hygrocybe hypospoda     Hygrocybe hypospoda  ...  2438770494   \n",
       "1     Hygrocybe hypospoda     Hygrocybe hypospoda  ...  2438770494   \n",
       "2     Mycena mulawaestris     Mycena mulawaestris  ...  2434842541   \n",
       "3  Amylosporus campbellii  Amylosporus campbellii  ...  2435361192   \n",
       "4    Barcheria willisiana    Barcheria willisiana  ...  2438837736   \n",
       "\n",
       "         type      format                                       identifier_y  \\\n",
       "0  StillImage  image/jpeg  https://images.ala.org.au/image/proxyImageThum...   \n",
       "1  StillImage  image/jpeg  https://images.ala.org.au/image/proxyImageThum...   \n",
       "2  StillImage  image/jpeg  https://images.ala.org.au/image/proxyImageThum...   \n",
       "3  StillImage  image/jpeg  https://images.ala.org.au/image/proxyImageThum...   \n",
       "4  StillImage  image/jpeg  https://images.ala.org.au/image/proxyImageThum...   \n",
       "\n",
       "                                          references                  created  \\\n",
       "0  https://images.ala.org.au/image/e8cbda8c-8c16-...  2020-06-06T12:55:56.554   \n",
       "1  https://images.ala.org.au/image/34e8d329-df42-...  2020-06-06T12:55:49.770   \n",
       "2  https://images.ala.org.au/image/35be7c1e-85f6-...  2020-06-06T10:47:57.498   \n",
       "3  https://images.ala.org.au/image/7b9cec27-862c-...  2020-06-06T09:42:51.401   \n",
       "4  https://images.ala.org.au/image/efbdb5af-79b2-...  2020-06-04T18:07:15.442   \n",
       "\n",
       "                          creator publisher  \\\n",
       "0  Royal Botanic Gardens Victoria       NaN   \n",
       "1  Royal Botanic Gardens Victoria       NaN   \n",
       "2  Royal Botanic Gardens Victoria       NaN   \n",
       "3  Royal Botanic Gardens Victoria       NaN   \n",
       "4  Royal Botanic Gardens Victoria       NaN   \n",
       "\n",
       "                                             license  \\\n",
       "0  http://creativecommons.org/licenses/by-nc-sa/4.0/   \n",
       "1  http://creativecommons.org/licenses/by-nc-sa/4.0/   \n",
       "2  http://creativecommons.org/licenses/by-nc-sa/4.0/   \n",
       "3  http://creativecommons.org/licenses/by-nc-sa/4.0/   \n",
       "4  http://creativecommons.org/licenses/by-nc-sa/4.0/   \n",
       "\n",
       "                  rightsHolder  \n",
       "0  Royal Botanic Gardens Board  \n",
       "1  Royal Botanic Gardens Board  \n",
       "2  Royal Botanic Gardens Board  \n",
       "3  Royal Botanic Gardens Board  \n",
       "4  Royal Botanic Gardens Board  \n",
       "\n",
       "[5 rows x 25 columns]"
      ]
     },
     "execution_count": 65,
     "metadata": {},
     "output_type": "execute_result"
    }
   ],
   "source": [
    "merged_df.head()"
   ]
  },
  {
   "cell_type": "code",
   "execution_count": 67,
   "id": "22103405",
   "metadata": {},
   "outputs": [
    {
     "data": {
      "text/plain": [
       "(1218288,)"
      ]
     },
     "execution_count": 67,
     "metadata": {},
     "output_type": "execute_result"
    }
   ],
   "source": [
    "merged_df['references'].unique().shape"
   ]
  },
  {
   "cell_type": "code",
   "execution_count": 69,
   "id": "c4100bb9",
   "metadata": {},
   "outputs": [
    {
     "data": {
      "text/plain": [
       "(2501659,)"
      ]
     },
     "execution_count": 69,
     "metadata": {},
     "output_type": "execute_result"
    }
   ],
   "source": [
    "merged_df['identifier_y'].unique().shape"
   ]
  },
  {
   "cell_type": "code",
   "execution_count": 70,
   "id": "a0418e97",
   "metadata": {},
   "outputs": [
    {
     "data": {
      "text/plain": [
       "(2503147, 25)"
      ]
     },
     "execution_count": 70,
     "metadata": {},
     "output_type": "execute_result"
    }
   ],
   "source": [
    "merged_df.shape"
   ]
  },
  {
   "cell_type": "code",
   "execution_count": 72,
   "id": "91ed62a7",
   "metadata": {},
   "outputs": [
    {
     "data": {
      "text/plain": [
       "id                              0\n",
       "identifier_x                 1854\n",
       "kingdom                        21\n",
       "phylum                         21\n",
       "class                          23\n",
       "order                         959\n",
       "family                      36431\n",
       "genus                       19359\n",
       "species                    136539\n",
       "verbatimScientificName         44\n",
       "countryCode                 17320\n",
       "stateProvince              475199\n",
       "decimalLatitude            162418\n",
       "decimalLongitude           162415\n",
       "hasCoordinate                  25\n",
       "coreid                          0\n",
       "type                         2335\n",
       "format                      30194\n",
       "identifier_y                  113\n",
       "references                1281948\n",
       "created                   1312838\n",
       "creator                    470406\n",
       "publisher                 1313105\n",
       "license                    493760\n",
       "rightsHolder               226852\n",
       "dtype: int64"
      ]
     },
     "execution_count": 72,
     "metadata": {},
     "output_type": "execute_result"
    }
   ],
   "source": [
    "merged_df.isna().sum()"
   ]
  },
  {
   "cell_type": "code",
   "execution_count": 74,
   "id": "ae45f860",
   "metadata": {},
   "outputs": [],
   "source": [
    "merged_df=merged_df.dropna(subset=['identifier_y'])"
   ]
  },
  {
   "cell_type": "code",
   "execution_count": 75,
   "id": "fdb99284",
   "metadata": {},
   "outputs": [
    {
     "data": {
      "text/plain": [
       "id                              0\n",
       "identifier_x                 1854\n",
       "kingdom                        21\n",
       "phylum                         21\n",
       "class                          23\n",
       "order                         959\n",
       "family                      36408\n",
       "genus                       19336\n",
       "species                    136509\n",
       "verbatimScientificName         44\n",
       "countryCode                 17320\n",
       "stateProvince              475190\n",
       "decimalLatitude            162392\n",
       "decimalLongitude           162389\n",
       "hasCoordinate                  25\n",
       "coreid                          0\n",
       "type                         2246\n",
       "format                      30105\n",
       "identifier_y                    0\n",
       "references                1281948\n",
       "created                   1312725\n",
       "creator                    470293\n",
       "publisher                 1312992\n",
       "license                    493674\n",
       "rightsHolder               226742\n",
       "dtype: int64"
      ]
     },
     "execution_count": 75,
     "metadata": {},
     "output_type": "execute_result"
    }
   ],
   "source": [
    "merged_df.isna().sum()"
   ]
  },
  {
   "cell_type": "code",
   "execution_count": 77,
   "id": "513c61de",
   "metadata": {},
   "outputs": [],
   "source": [
    "merged_df=merged_df.drop_duplicates(subset=['identifier_y'])"
   ]
  },
  {
   "cell_type": "code",
   "execution_count": 87,
   "id": "952613ea",
   "metadata": {},
   "outputs": [
    {
     "data": {
      "text/plain": [
       "Fungi                       2501631\n",
       "7451024                           3\n",
       "CA                                1\n",
       "2549396                           1\n",
       "2021-05-14T17:10:14.389Z          1\n",
       "Name: kingdom, dtype: int64"
      ]
     },
     "execution_count": 87,
     "metadata": {},
     "output_type": "execute_result"
    }
   ],
   "source": [
    "merged_df['kingdom'].value_counts()"
   ]
  },
  {
   "cell_type": "code",
   "execution_count": 93,
   "id": "b1b894a6",
   "metadata": {},
   "outputs": [
    {
     "name": "stdout",
     "output_type": "stream",
     "text": [
      "kingdom : \n",
      " Fungi                       2501631\n",
      "7451024                           3\n",
      "CA                                1\n",
      "2549396                           1\n",
      "2021-05-14T17:10:14.389Z          1\n",
      "Name: kingdom, dtype: int64 \n",
      "\n",
      "phylum : \n",
      " Basidiomycota               2501631\n",
      "Funalia floccosa                  3\n",
      "2021-06-30T22:07:16.674Z          1\n",
      "Earliella scabrosa                1\n",
      "1371.0                            1\n",
      "Name: phylum, dtype: int64 \n",
      "\n",
      "class : \n",
      " Agaricomycetes    2501631\n",
      "Coriolopsis             3\n",
      "Earliella               1\n",
      "Name: class, dtype: int64 \n",
      "\n",
      "order : \n",
      " Agaricales                                      1276012\n",
      "Polyporales                                      488135\n",
      "Russulales                                       220012\n",
      "Boletales                                        191172\n",
      "Hymenochaetales                                   89935\n",
      "Auriculariales                                    49501\n",
      "Cantharellales                                    49234\n",
      "Phallales                                         37351\n",
      "Thelephorales                                     22275\n",
      "Gomphales                                         21594\n",
      "Geastrales                                        19217\n",
      "Amylocorticiales                                   9680\n",
      "Gloeophyllales                                     9198\n",
      "Corticiales                                        7337\n",
      "Atheliales                                         2965\n",
      "Sebacinales                                        2689\n",
      "Trechisporales                                     1970\n",
      "Hysterangiales                                     1756\n",
      "Tremellodendropsidales                              326\n",
      "Stereopsidales                                      272\n",
      "Jaapiales                                            37\n",
      "Lepidostromatales                                    27\n",
      "Funalia floccosa (Jungh.) Zmitr. & Malysheva          3\n",
      "Earliella scabrosa (Pers.) Gilb. & Ryvarden           1\n",
      "Name: order, dtype: int64 \n",
      "\n",
      "family : \n",
      " Polyporaceae                                   240683\n",
      "Agaricaceae                                    180155\n",
      "Amanitaceae                                    128800\n",
      "Russulaceae                                    127176\n",
      "Fomitopsidaceae                                119491\n",
      "                                                ...  \n",
      "Macrocystidiaceae                                   2\n",
      "Gastrosporiaceae                                    2\n",
      "Hybogasteraceae                                     1\n",
      "Earliella scabrosa (Pers.) Gilb. & Ryvarden         1\n",
      "Protogastraceae                                     1\n",
      "Name: family, Length: 128, dtype: int64 \n",
      "\n",
      "genus : \n",
      " Amanita           127096\n",
      "Trametes           69895\n",
      "Russula            68879\n",
      "Mycena             67828\n",
      "Cortinarius        60062\n",
      "                   ...  \n",
      "Quadrispora            1\n",
      "Hygrophorocybe         1\n",
      "Pseudocoprinus         1\n",
      "Mycothele              1\n",
      "Taeniospora            1\n",
      "Name: genus, Length: 1339, dtype: int64 \n",
      "\n",
      "species : \n",
      " Amanita muscaria            44051\n",
      "Trametes versicolor         35732\n",
      "Schizophyllum commune       25952\n",
      "Fomes fomentarius           22356\n",
      "Cerioporus squamosus        22073\n",
      "                            ...  \n",
      "Pseudosperma holoxanthum        1\n",
      "Inocybe stuntzii                1\n",
      "Inocybe acriolens               1\n",
      "Pseudosperma aurora             1\n",
      "Lyophyllum trigonosporum        1\n",
      "Name: species, Length: 18846, dtype: int64 \n",
      "\n"
     ]
    }
   ],
   "source": [
    "\n",
    "for j in['kingdom','phylum','class','order','family',\"genus\",\"species\"]:\n",
    "    print(j,':','\\n',merged_df[j].value_counts(),'\\n')"
   ]
  },
  {
   "cell_type": "code",
   "execution_count": 100,
   "id": "75399c20",
   "metadata": {},
   "outputs": [
    {
     "name": "stderr",
     "output_type": "stream",
     "text": [
      "C:\\Users\\baugn\\anaconda3\\envs\\tf-gpu\\lib\\site-packages\\matplotlib\\backends\\backend_agg.py:240: RuntimeWarning: Glyph 138 missing from current font.\n",
      "  font.set_text(s, 0.0, flags=flags)\n",
      "C:\\Users\\baugn\\anaconda3\\envs\\tf-gpu\\lib\\site-packages\\matplotlib\\backends\\backend_agg.py:203: RuntimeWarning: Glyph 138 missing from current font.\n",
      "  font.set_text(s, 0, flags=flags)\n"
     ]
    },
    {
     "data": {
      "image/png": "[encoded data removed]",
      "text/plain": [
       "<Figure size 432x288 with 1 Axes>"
      ]
     },
     "metadata": {
      "needs_background": "light"
     },
     "output_type": "display_data"
    }
   ],
   "source": [
    "merged_df['verbatimScientificName'].value_counts().plot.bar();"
   ]
  },
  {
   "cell_type": "code",
   "execution_count": 109,
   "id": "af82b92f",
   "metadata": {},
   "outputs": [],
   "source": [
    "A=merged_df['verbatimScientificName'].value_counts()"
   ]
  },
  {
   "cell_type": "code",
   "execution_count": 113,
   "id": "b4d3393a",
   "metadata": {},
   "outputs": [
    {
     "data": {
      "text/plain": [
       "(48972,)"
      ]
     },
     "execution_count": 113,
     "metadata": {},
     "output_type": "execute_result"
    }
   ],
   "source": [
    "A.shape"
   ]
  },
  {
   "cell_type": "code",
   "execution_count": 114,
   "id": "0525ac03",
   "metadata": {},
   "outputs": [],
   "source": [
    "import numpy as np\n",
    "x=np.arange(48972)\n",
    "A.index=x"
   ]
  },
  {
   "cell_type": "code",
   "execution_count": 107,
   "id": "7cdc2e07",
   "metadata": {},
   "outputs": [
    {
     "data": {
      "text/plain": [
       "array([    0,     1,     2, ..., 31808, 31809, 31810])"
      ]
     },
     "execution_count": 107,
     "metadata": {},
     "output_type": "execute_result"
    }
   ],
   "source": [
    "x"
   ]
  },
  {
   "cell_type": "code",
   "execution_count": 115,
   "id": "a50eaeea",
   "metadata": {},
   "outputs": [
    {
     "data": {
      "text/plain": [
       "0        35055\n",
       "1        31811\n",
       "2        23586\n",
       "3        20419\n",
       "4        20408\n",
       "         ...  \n",
       "48967        1\n",
       "48968        1\n",
       "48969        1\n",
       "48970        1\n",
       "48971        1\n",
       "Name: verbatimScientificName, Length: 48972, dtype: int64"
      ]
     },
     "execution_count": 115,
     "metadata": {},
     "output_type": "execute_result"
    }
   ],
   "source": [
    "A"
   ]
  },
  {
   "cell_type": "code",
   "execution_count": 123,
   "id": "8030e104",
   "metadata": {},
   "outputs": [
    {
     "data": {
      "text/plain": [
       "(0.0, 100.0)"
      ]
     },
     "execution_count": 123,
     "metadata": {},
     "output_type": "execute_result"
    },
    {
     "data": {
      "image/png": "[encoded data removed]",
      "text/plain": [
       "<Figure size 432x288 with 1 Axes>"
      ]
     },
     "metadata": {
      "needs_background": "light"
     },
     "output_type": "display_data"
    }
   ],
   "source": [
    "\n",
    "A.plot.line()\n",
    "plt.ylim((0,100))\n"
   ]
  },
  {
   "cell_type": "code",
   "execution_count": 147,
   "id": "71221691",
   "metadata": {},
   "outputs": [
    {
     "data": {
      "image/png": "[encoded data removed]",
      "text/plain": [
       "<Figure size 432x288 with 4 Axes>"
      ]
     },
     "metadata": {
      "needs_background": "light"
     },
     "output_type": "display_data"
    }
   ],
   "source": [
    "Graph=['order','family','genus','species']\n",
    "\n",
    "    \n",
    "plt.subplot(221)\n",
    "A=merged_df['order'].value_counts()\n",
    "plt.plot(np.arange(A.shape[0]), A,label='order')\n",
    "plt.ylim((0,500))\n",
    "plt.legend()\n",
    "plt.subplot(222)\n",
    "A=merged_df['family'].value_counts()\n",
    "plt.plot(np.arange(A.shape[0]), A,label='family')\n",
    "plt.ylim((0,500))\n",
    "plt.legend()\n",
    "plt.subplot(223)\n",
    "A=merged_df['genus'].value_counts()\n",
    "plt.plot(np.arange(A.shape[0]), A,label='genus')\n",
    "plt.ylim((0,500))\n",
    "plt.legend() \n",
    "plt.subplot(224)\n",
    "A=merged_df['species'].value_counts()\n",
    "plt.plot(np.arange(A.shape[0]), A,label='species')\n",
    "plt.ylim((0,500))\n",
    "plt.legend();"
   ]
  },
  {
   "cell_type": "code",
   "execution_count": 128,
   "id": "fb8f0cbc",
   "metadata": {},
   "outputs": [
    {
     "data": {
      "text/plain": [
       "(2501658, 25)"
      ]
     },
     "execution_count": 128,
     "metadata": {},
     "output_type": "execute_result"
    }
   ],
   "source": [
    "merged_df.shape"
   ]
  },
  {
   "cell_type": "code",
   "execution_count": 130,
   "id": "5cc91683",
   "metadata": {},
   "outputs": [
    {
     "name": "stdout",
     "output_type": "stream",
     "text": [
      "0 order\n",
      "1 family\n",
      "2 genus\n",
      "3 species\n"
     ]
    }
   ],
   "source": [
    "for i,j in enumerate(Graph):\n",
    "    print(i,j)"
   ]
  },
  {
   "cell_type": "code",
   "execution_count": 148,
   "id": "c74c26a5",
   "metadata": {},
   "outputs": [],
   "source": [
    "merged_df.to_csv('merged_bast.csv')"
   ]
  },
  {
   "cell_type": "code",
   "execution_count": null,
   "id": "fdcc7a08",
   "metadata": {},
   "outputs": [],
   "source": []
  }
 ],
 "metadata": {
  "kernelspec": {
   "display_name": "Python 3 (ipykernel)",
   "language": "python",
   "name": "python3"
  },
  "language_info": {
   "codemirror_mode": {
    "name": "ipython",
    "version": 3
   },
   "file_extension": ".py",
   "mimetype": "text/x-python",
   "name": "python",
   "nbconvert_exporter": "python",
   "pygments_lexer": "ipython3",
   "version": "3.9.6"
  }
 },
 "nbformat": 4,
 "nbformat_minor": 5
}
