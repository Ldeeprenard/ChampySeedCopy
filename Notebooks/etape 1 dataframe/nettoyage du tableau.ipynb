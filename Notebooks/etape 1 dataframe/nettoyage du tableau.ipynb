{
 "cells": [
  {
   "cell_type": "code",
   "execution_count": 1,
   "id": "8b5b06f9",
   "metadata": {},
   "outputs": [],
   "source": [
    "import pandas as pd\n",
    "pd.set_option('display.max_rows', 500)\n",
    "pd.set_option('display.max_columns', 500)\n",
    "pd.set_option('display.width', 1000)"
   ]
  },
  {
   "cell_type": "markdown",
   "id": "b9621736",
   "metadata": {},
   "source": [
    "importation du tableau principal"
   ]
  },
  {
   "cell_type": "code",
   "execution_count": 2,
   "id": "5a5f5165",
   "metadata": {},
   "outputs": [
    {
     "name": "stderr",
     "output_type": "stream",
     "text": [
      "D:\\anaconda3\\lib\\site-packages\\IPython\\core\\interactiveshell.py:3165: DtypeWarning: Columns (2,12,14,15,20,21,22,23,24,25) have mixed types.Specify dtype option on import or set low_memory=False.\n",
      "  has_raised = await self.run_ast_nodes(code_ast.body, cell_name,\n"
     ]
    }
   ],
   "source": [
    "df = pd.read_csv(\"merged_bast.csv\")\n"
   ]
  },
  {
   "cell_type": "markdown",
   "id": "179d372c",
   "metadata": {},
   "source": [
    "Selection des colonnes"
   ]
  },
  {
   "cell_type": "code",
   "execution_count": 52,
   "id": "7b1d3435",
   "metadata": {},
   "outputs": [],
   "source": [
    "newtab = df[['id','identifier_y','kingdom','phylum','class','order','family','genus','species','verbatimScientificName','countryCode','decimalLatitude','decimalLongitude','hasCoordinate']]"
   ]
  },
  {
   "cell_type": "code",
   "execution_count": 43,
   "id": "272b94ff",
   "metadata": {},
   "outputs": [
    {
     "name": "stderr",
     "output_type": "stream",
     "text": [
      "D:\\anaconda3\\lib\\site-packages\\pandas\\core\\generic.py:5494: SettingWithCopyWarning: \n",
      "A value is trying to be set on a copy of a slice from a DataFrame.\n",
      "Try using .loc[row_indexer,col_indexer] = value instead\n",
      "\n",
      "See the caveats in the documentation: https://pandas.pydata.org/pandas-docs/stable/user_guide/indexing.html#returning-a-view-versus-a-copy\n",
      "  self[name] = value\n"
     ]
    }
   ],
   "source": [
    "newtab.decimalLongitude = pd.to_numeric(newtab.decimalLongitude,errors = 'coerce')"
   ]
  },
  {
   "cell_type": "code",
   "execution_count": 44,
   "id": "aae29711",
   "metadata": {},
   "outputs": [
    {
     "data": {
      "text/html": [
       "<div>\n",
       "<style scoped>\n",
       "    .dataframe tbody tr th:only-of-type {\n",
       "        vertical-align: middle;\n",
       "    }\n",
       "\n",
       "    .dataframe tbody tr th {\n",
       "        vertical-align: top;\n",
       "    }\n",
       "\n",
       "    .dataframe thead th {\n",
       "        text-align: right;\n",
       "    }\n",
       "</style>\n",
       "<table border=\"1\" class=\"dataframe\">\n",
       "  <thead>\n",
       "    <tr style=\"text-align: right;\">\n",
       "      <th></th>\n",
       "      <th>id</th>\n",
       "      <th>identifier_y</th>\n",
       "      <th>kingdom</th>\n",
       "      <th>phylum</th>\n",
       "      <th>class</th>\n",
       "      <th>order</th>\n",
       "      <th>family</th>\n",
       "      <th>genus</th>\n",
       "      <th>species</th>\n",
       "      <th>verbatimScientificName</th>\n",
       "      <th>countryCode</th>\n",
       "      <th>decimalLatitude</th>\n",
       "      <th>decimalLongitude</th>\n",
       "      <th>hasCoordinate</th>\n",
       "    </tr>\n",
       "  </thead>\n",
       "  <tbody>\n",
       "    <tr>\n",
       "      <th>0</th>\n",
       "      <td>2438770494</td>\n",
       "      <td>https://images.ala.org.au/image/proxyImageThum...</td>\n",
       "      <td>Fungi</td>\n",
       "      <td>Basidiomycota</td>\n",
       "      <td>Agaricomycetes</td>\n",
       "      <td>Agaricales</td>\n",
       "      <td>Hygrophoraceae</td>\n",
       "      <td>Hygrocybe</td>\n",
       "      <td>Hygrocybe hypospoda</td>\n",
       "      <td>Hygrocybe hypospoda</td>\n",
       "      <td>AU</td>\n",
       "      <td>-39.020600</td>\n",
       "      <td>146.336100</td>\n",
       "      <td>True</td>\n",
       "    </tr>\n",
       "    <tr>\n",
       "      <th>1</th>\n",
       "      <td>2438770494</td>\n",
       "      <td>https://images.ala.org.au/image/proxyImageThum...</td>\n",
       "      <td>Fungi</td>\n",
       "      <td>Basidiomycota</td>\n",
       "      <td>Agaricomycetes</td>\n",
       "      <td>Agaricales</td>\n",
       "      <td>Hygrophoraceae</td>\n",
       "      <td>Hygrocybe</td>\n",
       "      <td>Hygrocybe hypospoda</td>\n",
       "      <td>Hygrocybe hypospoda</td>\n",
       "      <td>AU</td>\n",
       "      <td>-39.020600</td>\n",
       "      <td>146.336100</td>\n",
       "      <td>True</td>\n",
       "    </tr>\n",
       "    <tr>\n",
       "      <th>2</th>\n",
       "      <td>2434842541</td>\n",
       "      <td>https://images.ala.org.au/image/proxyImageThum...</td>\n",
       "      <td>Fungi</td>\n",
       "      <td>Basidiomycota</td>\n",
       "      <td>Agaricomycetes</td>\n",
       "      <td>Agaricales</td>\n",
       "      <td>Mycenaceae</td>\n",
       "      <td>Mycena</td>\n",
       "      <td>Mycena mulawaestris</td>\n",
       "      <td>Mycena mulawaestris</td>\n",
       "      <td>AU</td>\n",
       "      <td>-37.666667</td>\n",
       "      <td>145.733333</td>\n",
       "      <td>True</td>\n",
       "    </tr>\n",
       "    <tr>\n",
       "      <th>3</th>\n",
       "      <td>2435361192</td>\n",
       "      <td>https://images.ala.org.au/image/proxyImageThum...</td>\n",
       "      <td>Fungi</td>\n",
       "      <td>Basidiomycota</td>\n",
       "      <td>Agaricomycetes</td>\n",
       "      <td>Russulales</td>\n",
       "      <td>Bondarzewiaceae</td>\n",
       "      <td>Amylosporus</td>\n",
       "      <td>Amylosporus campbellii</td>\n",
       "      <td>Amylosporus campbellii</td>\n",
       "      <td>MM</td>\n",
       "      <td>NaN</td>\n",
       "      <td>NaN</td>\n",
       "      <td>False</td>\n",
       "    </tr>\n",
       "    <tr>\n",
       "      <th>4</th>\n",
       "      <td>2438837736</td>\n",
       "      <td>https://images.ala.org.au/image/proxyImageThum...</td>\n",
       "      <td>Fungi</td>\n",
       "      <td>Basidiomycota</td>\n",
       "      <td>Agaricomycetes</td>\n",
       "      <td>Agaricales</td>\n",
       "      <td>Agaricaceae</td>\n",
       "      <td>Barcheria</td>\n",
       "      <td>Barcheria willisiana</td>\n",
       "      <td>Barcheria willisiana</td>\n",
       "      <td>AU</td>\n",
       "      <td>-32.176100</td>\n",
       "      <td>121.399700</td>\n",
       "      <td>True</td>\n",
       "    </tr>\n",
       "  </tbody>\n",
       "</table>\n",
       "</div>"
      ],
      "text/plain": [
       "           id                                       identifier_y kingdom         phylum           class       order           family        genus                 species  verbatimScientificName countryCode  decimalLatitude  decimalLongitude hasCoordinate\n",
       "0  2438770494  https://images.ala.org.au/image/proxyImageThum...   Fungi  Basidiomycota  Agaricomycetes  Agaricales   Hygrophoraceae    Hygrocybe     Hygrocybe hypospoda     Hygrocybe hypospoda          AU       -39.020600        146.336100          True\n",
       "1  2438770494  https://images.ala.org.au/image/proxyImageThum...   Fungi  Basidiomycota  Agaricomycetes  Agaricales   Hygrophoraceae    Hygrocybe     Hygrocybe hypospoda     Hygrocybe hypospoda          AU       -39.020600        146.336100          True\n",
       "2  2434842541  https://images.ala.org.au/image/proxyImageThum...   Fungi  Basidiomycota  Agaricomycetes  Agaricales       Mycenaceae       Mycena     Mycena mulawaestris     Mycena mulawaestris          AU       -37.666667        145.733333          True\n",
       "3  2435361192  https://images.ala.org.au/image/proxyImageThum...   Fungi  Basidiomycota  Agaricomycetes  Russulales  Bondarzewiaceae  Amylosporus  Amylosporus campbellii  Amylosporus campbellii          MM              NaN               NaN         False\n",
       "4  2438837736  https://images.ala.org.au/image/proxyImageThum...   Fungi  Basidiomycota  Agaricomycetes  Agaricales      Agaricaceae    Barcheria    Barcheria willisiana    Barcheria willisiana          AU       -32.176100        121.399700          True"
      ]
     },
     "execution_count": 44,
     "metadata": {},
     "output_type": "execute_result"
    }
   ],
   "source": [
    "newtab.head()"
   ]
  },
  {
   "cell_type": "markdown",
   "id": "2aab3627",
   "metadata": {},
   "source": [
    "Trie par classe"
   ]
  },
  {
   "cell_type": "code",
   "execution_count": 53,
   "id": "4b928129",
   "metadata": {},
   "outputs": [],
   "source": [
    "newtab = newtab[newtab['class']=='Agaricomycetes']"
   ]
  },
  {
   "cell_type": "code",
   "execution_count": null,
   "id": "d8b6a7fe",
   "metadata": {},
   "outputs": [],
   "source": [
    "Harmonisation de la colonne hasCoordinate"
   ]
  },
  {
   "cell_type": "code",
   "execution_count": 54,
   "id": "d5340558",
   "metadata": {},
   "outputs": [],
   "source": [
    "newtab.hasCoordinate = newtab.hasCoordinate.replace (['True','true'],True)\n",
    "newtab.hasCoordinate = newtab.hasCoordinate.replace (['False','false'],False)"
   ]
  },
  {
   "cell_type": "code",
   "execution_count": 55,
   "id": "23dc7a2d",
   "metadata": {},
   "outputs": [
    {
     "data": {
      "text/plain": [
       "True     2340729\n",
       "False     162391\n",
       "Name: hasCoordinate, dtype: int64"
      ]
     },
     "execution_count": 55,
     "metadata": {},
     "output_type": "execute_result"
    }
   ],
   "source": [
    "newtab.hasCoordinate.value_counts()"
   ]
  },
  {
   "cell_type": "markdown",
   "id": "1fc35883",
   "metadata": {},
   "source": [
    "nettoyage des colonnes qui nous interressent pour le target"
   ]
  },
  {
   "cell_type": "code",
   "execution_count": 66,
   "id": "65354e11",
   "metadata": {},
   "outputs": [],
   "source": [
    "newtab = newtab.dropna (subset=['genus','family','species','identifier_y'])"
   ]
  },
  {
   "cell_type": "code",
   "execution_count": 63,
   "id": "b9985ba2",
   "metadata": {},
   "outputs": [
    {
     "data": {
      "text/plain": [
       "id                             0\n",
       "identifier_y                  83\n",
       "kingdom                        0\n",
       "phylum                         0\n",
       "class                          0\n",
       "order                          0\n",
       "family                         0\n",
       "genus                          0\n",
       "species                        0\n",
       "verbatimScientificName         0\n",
       "countryCode                16229\n",
       "decimalLatitude           148120\n",
       "decimalLongitude          148120\n",
       "hasCoordinate                  0\n",
       "dtype: int64"
      ]
     },
     "execution_count": 63,
     "metadata": {},
     "output_type": "execute_result"
    }
   ],
   "source": [
    "newtab.isna().sum()"
   ]
  },
  {
   "cell_type": "code",
   "execution_count": 64,
   "id": "85f23120",
   "metadata": {},
   "outputs": [
    {
     "name": "stdout",
     "output_type": "stream",
     "text": [
      "<class 'pandas.core.frame.DataFrame'>\n",
      "Int64Index: 2339899 entries, 0 to 2503146\n",
      "Data columns (total 14 columns):\n",
      " #   Column                  Dtype  \n",
      "---  ------                  -----  \n",
      " 0   id                      int64  \n",
      " 1   identifier_y            object \n",
      " 2   kingdom                 object \n",
      " 3   phylum                  object \n",
      " 4   class                   object \n",
      " 5   order                   object \n",
      " 6   family                  object \n",
      " 7   genus                   object \n",
      " 8   species                 object \n",
      " 9   verbatimScientificName  object \n",
      " 10  countryCode             object \n",
      " 11  decimalLatitude         float64\n",
      " 12  decimalLongitude        object \n",
      " 13  hasCoordinate           bool   \n",
      "dtypes: bool(1), float64(1), int64(1), object(11)\n",
      "memory usage: 252.2+ MB\n"
     ]
    }
   ],
   "source": [
    "newtab.info()"
   ]
  },
  {
   "cell_type": "code",
   "execution_count": null,
   "id": "a23ebd07",
   "metadata": {},
   "outputs": [],
   "source": [
    "enregistrement du tableau"
   ]
  },
  {
   "cell_type": "code",
   "execution_count": 67,
   "id": "9d63fcb4",
   "metadata": {},
   "outputs": [],
   "source": [
    "newtab.to_csv('tableau_propre.csv')"
   ]
  }
 ],
 "metadata": {
  "kernelspec": {
   "display_name": "Python 3",
   "language": "python",
   "name": "python3"
  },
  "language_info": {
   "codemirror_mode": {
    "name": "ipython",
    "version": 3
   },
   "file_extension": ".py",
   "mimetype": "text/x-python",
   "name": "python",
   "nbconvert_exporter": "python",
   "pygments_lexer": "ipython3",
   "version": "3.8.8"
  }
 },
 "nbformat": 4,
 "nbformat_minor": 5
}
