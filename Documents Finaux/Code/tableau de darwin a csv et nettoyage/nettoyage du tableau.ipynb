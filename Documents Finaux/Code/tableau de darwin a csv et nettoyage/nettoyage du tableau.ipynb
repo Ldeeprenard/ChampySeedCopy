{
 "cells": [
  {
   "cell_type": "code",
   "execution_count": 2,
   "id": "8b5b06f9",
   "metadata": {},
   "outputs": [],
   "source": [
    "import pandas as pd\n",
    "pd.set_option('display.max_rows', 500)\n",
    "pd.set_option('display.max_columns', 500)\n",
    "pd.set_option('display.width', 1000)"
   ]
  },
  {
   "cell_type": "markdown",
   "id": "b9621736",
   "metadata": {},
   "source": [
    "importation du tableau principal"
   ]
  },
  {
   "cell_type": "code",
   "execution_count": 33,
   "id": "5a5f5165",
   "metadata": {},
   "outputs": [
    {
     "name": "stderr",
     "output_type": "stream",
     "text": [
      "D:\\anaconda3\\lib\\site-packages\\IPython\\core\\interactiveshell.py:3165: DtypeWarning: Columns (2,12,14,15,20,21,22,23,24,25) have mixed types.Specify dtype option on import or set low_memory=False.\n",
      "  has_raised = await self.run_ast_nodes(code_ast.body, cell_name,\n"
     ]
    }
   ],
   "source": [
    "df = pd.read_csv(r\"tableau_gbif.csv\")\n"
   ]
  },
  {
   "cell_type": "markdown",
   "id": "179d372c",
   "metadata": {},
   "source": [
    "Selection des colonnes"
   ]
  },
  {
   "cell_type": "code",
   "execution_count": 35,
   "id": "7b1d3435",
   "metadata": {},
   "outputs": [],
   "source": [
    "newtab = df[['id','identifier_y','kingdom','phylum','class','order','family','genus','species','verbatimScientificName','countryCode','decimalLatitude','decimalLongitude','hasCoordinate']]"
   ]
  },
  {
   "cell_type": "code",
   "execution_count": 14,
   "metadata": {},
   "outputs": [
    {
     "name": "stdout",
     "output_type": "stream",
     "text": [
      "<class 'pandas.core.frame.DataFrame'>\n",
      "RangeIndex: 2503147 entries, 0 to 2503146\n",
      "Data columns (total 14 columns):\n",
      " #   Column                  Dtype  \n",
      "---  ------                  -----  \n",
      " 0   id                      int64  \n",
      " 1   identifier_y            object \n",
      " 2   kingdom                 object \n",
      " 3   phylum                  object \n",
      " 4   class                   object \n",
      " 5   order                   object \n",
      " 6   family                  object \n",
      " 7   genus                   object \n",
      " 8   species                 object \n",
      " 9   verbatimScientificName  object \n",
      " 10  countryCode             object \n",
      " 11  decimalLatitude         float64\n",
      " 12  decimalLongitude        object \n",
      " 13  hasCoordinate           object \n",
      "dtypes: float64(1), int64(1), object(12)\n",
      "memory usage: 267.4+ MB\n"
     ]
    }
   ],
   "source": [
    "newtab.info()"
   ]
  },
  {
   "cell_type": "markdown",
   "metadata": {},
   "source": [
    "la colonne decimalLongitude est en format object, cela pose problème lors de la lecture des coordonnées. Utilisation de coerce pour générer un NaN si ce n'est pas possible, préférable à la donnée d'origine"
   ]
  },
  {
   "cell_type": "code",
   "execution_count": 24,
   "id": "272b94ff",
   "metadata": {},
   "outputs": [],
   "source": [
    "newtab.decimalLongitude = pd.to_numeric(newtab.decimalLongitude,errors = 'coerce')"
   ]
  },
  {
   "cell_type": "code",
   "execution_count": 25,
   "id": "aae29711",
   "metadata": {},
   "outputs": [
    {
     "data": {
      "text/plain": [
       "array(['Agaricomycetes', nan, 'Coriolopsis', 'Earliella'], dtype=object)"
      ]
     },
     "execution_count": 25,
     "metadata": {},
     "output_type": "execute_result"
    }
   ],
   "source": [
    "newtab[\"class\"].unique()"
   ]
  },
  {
   "cell_type": "markdown",
   "id": "2aab3627",
   "metadata": {},
   "source": [
    "Trie par classe, en effet après analyse, d'autres classes 'parasitent' le tableau"
   ]
  },
  {
   "cell_type": "code",
   "execution_count": 26,
   "id": "4b928129",
   "metadata": {},
   "outputs": [],
   "source": [
    "newtab = newtab[newtab['class']=='Agaricomycetes']"
   ]
  },
  {
   "cell_type": "code",
   "execution_count": 27,
   "metadata": {},
   "outputs": [
    {
     "data": {
      "text/plain": [
       "array([True, False, 'True', 'true', 'false', 'False'], dtype=object)"
      ]
     },
     "execution_count": 27,
     "metadata": {},
     "output_type": "execute_result"
    }
   ],
   "source": [
    "newtab.hasCoordinate.unique()"
   ]
  },
  {
   "cell_type": "markdown",
   "id": "d8b6a7fe",
   "metadata": {},
   "source": [
    "Harmonisation de la colonne hasCoordinate qui dispose de string et de bool, de majuscules et minuscules"
   ]
  },
  {
   "cell_type": "code",
   "execution_count": 28,
   "id": "d5340558",
   "metadata": {},
   "outputs": [],
   "source": [
    "newtab.hasCoordinate = newtab.hasCoordinate.replace (['True','true'],True)\n",
    "newtab.hasCoordinate = newtab.hasCoordinate.replace (['False','false'],False)"
   ]
  },
  {
   "cell_type": "code",
   "execution_count": 29,
   "id": "23dc7a2d",
   "metadata": {},
   "outputs": [
    {
     "data": {
      "text/plain": [
       "True     2340729\n",
       "False     162391\n",
       "Name: hasCoordinate, dtype: int64"
      ]
     },
     "execution_count": 29,
     "metadata": {},
     "output_type": "execute_result"
    }
   ],
   "source": [
    "newtab.hasCoordinate.value_counts()"
   ]
  },
  {
   "cell_type": "markdown",
   "id": "1fc35883",
   "metadata": {},
   "source": [
    "nettoyage des colonnes qui nous interressent pour les classes. Avoir des NaN dans ces colonnes n'aurait pas de sens pour l'entrainement."
   ]
  },
  {
   "cell_type": "code",
   "execution_count": 36,
   "metadata": {},
   "outputs": [
    {
     "data": {
      "text/plain": [
       "id                             0\n",
       "identifier_y                 113\n",
       "kingdom                       21\n",
       "phylum                        21\n",
       "class                         23\n",
       "order                        959\n",
       "family                     36431\n",
       "genus                      19359\n",
       "species                   136539\n",
       "verbatimScientificName        44\n",
       "countryCode                17320\n",
       "decimalLatitude           162418\n",
       "decimalLongitude          162415\n",
       "hasCoordinate                 25\n",
       "dtype: int64"
      ]
     },
     "execution_count": 36,
     "metadata": {},
     "output_type": "execute_result"
    }
   ],
   "source": [
    "newtab.isna().sum()"
   ]
  },
  {
   "cell_type": "code",
   "execution_count": 30,
   "id": "65354e11",
   "metadata": {},
   "outputs": [],
   "source": [
    "newtab = newtab.dropna (subset=['genus','family','species','identifier_y'])"
   ]
  },
  {
   "cell_type": "code",
   "execution_count": 31,
   "id": "b9985ba2",
   "metadata": {},
   "outputs": [
    {
     "data": {
      "text/plain": [
       "id                             0\n",
       "identifier_y                   0\n",
       "kingdom                        0\n",
       "phylum                         0\n",
       "class                          0\n",
       "order                          0\n",
       "family                         0\n",
       "genus                          0\n",
       "species                        0\n",
       "verbatimScientificName         0\n",
       "countryCode                16229\n",
       "decimalLatitude           148099\n",
       "decimalLongitude          148099\n",
       "hasCoordinate                  0\n",
       "dtype: int64"
      ]
     },
     "execution_count": 31,
     "metadata": {},
     "output_type": "execute_result"
    }
   ],
   "source": [
    "newtab.isna().sum()"
   ]
  },
  {
   "cell_type": "code",
   "execution_count": 32,
   "id": "85f23120",
   "metadata": {},
   "outputs": [
    {
     "name": "stdout",
     "output_type": "stream",
     "text": [
      "<class 'pandas.core.frame.DataFrame'>\n",
      "Int64Index: 2339816 entries, 0 to 2503146\n",
      "Data columns (total 14 columns):\n",
      " #   Column                  Dtype  \n",
      "---  ------                  -----  \n",
      " 0   id                      int64  \n",
      " 1   identifier_y            object \n",
      " 2   kingdom                 object \n",
      " 3   phylum                  object \n",
      " 4   class                   object \n",
      " 5   order                   object \n",
      " 6   family                  object \n",
      " 7   genus                   object \n",
      " 8   species                 object \n",
      " 9   verbatimScientificName  object \n",
      " 10  countryCode             object \n",
      " 11  decimalLatitude         float64\n",
      " 12  decimalLongitude        float64\n",
      " 13  hasCoordinate           bool   \n",
      "dtypes: bool(1), float64(2), int64(1), object(10)\n",
      "memory usage: 252.2+ MB\n"
     ]
    }
   ],
   "source": [
    "newtab.info()"
   ]
  },
  {
   "cell_type": "code",
   "execution_count": null,
   "id": "a23ebd07",
   "metadata": {},
   "outputs": [],
   "source": [
    "enregistrement du tableau"
   ]
  },
  {
   "cell_type": "code",
   "execution_count": 67,
   "id": "9d63fcb4",
   "metadata": {},
   "outputs": [],
   "source": [
    "newtab.to_csv('premier_tableau.csv')"
   ]
  }
 ],
 "metadata": {
  "interpreter": {
   "hash": "7b4b4feff2f24a0f0a34464dbe537a36fda679851528fb8735cb41fa49dffb2d"
  },
  "kernelspec": {
   "display_name": "Python 3.8.8 64-bit ('base': conda)",
   "name": "python3"
  },
  "language_info": {
   "codemirror_mode": {
    "name": "ipython",
    "version": 3
   },
   "file_extension": ".py",
   "mimetype": "text/x-python",
   "name": "python",
   "nbconvert_exporter": "python",
   "pygments_lexer": "ipython3",
   "version": "3.8.8"
  }
 },
 "nbformat": 4,
 "nbformat_minor": 5
}
