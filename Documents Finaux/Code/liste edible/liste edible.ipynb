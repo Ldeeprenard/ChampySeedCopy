{
 "cells": [
  {
   "cell_type": "code",
   "execution_count": 5,
   "metadata": {},
   "outputs": [],
   "source": [
    "import pandas as pd \n",
    "\n",
    "\n",
    "df = pd.read_csv (\"Champyseed.csv\")\n",
    "listecomestible = pd.read_csv (\"liste_edibility.csv\",index_col=[0])"
   ]
  },
  {
   "cell_type": "code",
   "execution_count": 2,
   "metadata": {},
   "outputs": [
    {
     "data": {
      "text/plain": [
       "species\n",
       "Amanita muscaria          43028\n",
       "Trametes versicolor       32283\n",
       "Schizophyllum commune     24144\n",
       "Cerioporus squamosus      21938\n",
       "Fomes fomentarius         21694\n",
       "                          ...  \n",
       "Gloeophyllum sepiarium        1\n",
       "Gloeophyllum odoratum         1\n",
       "Gloeophyllum abietinum        1\n",
       "Gloeophyllum                  1\n",
       "Zygospermella insignis        1\n",
       "Length: 9349, dtype: int64"
      ]
     },
     "execution_count": 2,
     "metadata": {},
     "output_type": "execute_result"
    }
   ],
   "source": [
    "# Création d'une liste de nombres de photos par espèce donc comestible est connu\n",
    "df2 = df.merge (listecomestible, on =  \"species\", how = 'right') #merge possible pour ne garder que les lignes dont la comestibilité est connue\n",
    "\n",
    "df2 = df2.drop (['Unnamed: 0_y','Unnamed: 0_x','Unnamed: 0.1', 'id','identifier_y','verbatimScientificName','hasCoordinate','path','fungi_class'],axis=1)\n",
    "\n",
    "species =df2.groupby (\"species\").size()\n",
    "species.sort_values (ascending=False) #affichage des species par ordre décroissant"
   ]
  },
  {
   "cell_type": "code",
   "execution_count": 6,
   "metadata": {},
   "outputs": [
    {
     "data": {
      "text/html": [
       "<div>\n",
       "<style scoped>\n",
       "    .dataframe tbody tr th:only-of-type {\n",
       "        vertical-align: middle;\n",
       "    }\n",
       "\n",
       "    .dataframe tbody tr th {\n",
       "        vertical-align: top;\n",
       "    }\n",
       "\n",
       "    .dataframe thead th {\n",
       "        text-align: right;\n",
       "    }\n",
       "</style>\n",
       "<table border=\"1\" class=\"dataframe\">\n",
       "  <thead>\n",
       "    <tr style=\"text-align: right;\">\n",
       "      <th></th>\n",
       "      <th>species</th>\n",
       "      <th>edible</th>\n",
       "    </tr>\n",
       "  </thead>\n",
       "  <tbody>\n",
       "    <tr>\n",
       "      <th>1</th>\n",
       "      <td>Agaricus bisporus</td>\n",
       "      <td>comestible bon</td>\n",
       "    </tr>\n",
       "    <tr>\n",
       "      <th>2</th>\n",
       "      <td>Agaricus campestris</td>\n",
       "      <td>comestible bon</td>\n",
       "    </tr>\n",
       "    <tr>\n",
       "      <th>3</th>\n",
       "      <td>Amanita caesarea</td>\n",
       "      <td>comestible bon</td>\n",
       "    </tr>\n",
       "    <tr>\n",
       "      <th>4</th>\n",
       "      <td>Amanita vaginata</td>\n",
       "      <td>comestible bon</td>\n",
       "    </tr>\n",
       "    <tr>\n",
       "      <th>5</th>\n",
       "      <td>Boletus aereus</td>\n",
       "      <td>comestible bon</td>\n",
       "    </tr>\n",
       "  </tbody>\n",
       "</table>\n",
       "</div>"
      ],
      "text/plain": [
       "               species          edible\n",
       "1    Agaricus bisporus  comestible bon\n",
       "2  Agaricus campestris  comestible bon\n",
       "3     Amanita caesarea  comestible bon\n",
       "4     Amanita vaginata  comestible bon\n",
       "5       Boletus aereus  comestible bon"
      ]
     },
     "execution_count": 6,
     "metadata": {},
     "output_type": "execute_result"
    }
   ],
   "source": [
    "# Transformation de la liste comestible pour l'utiliser ultérieurement, pour rechercher la comestibilité d'un champignon\n",
    "\n",
    "listecomestible = listecomestible.dropna()\n",
    "listecomestible = listecomestible.rename (columns={'champignons':'species','comestibilité':'edible'})\n",
    "listecomestible.to_csv (\"liste_edibility.csv\")\n",
    "\n",
    "listecomestible.head()"
   ]
  },
  {
   "cell_type": "code",
   "execution_count": null,
   "metadata": {},
   "outputs": [],
   "source": [
    "#coordonnées gps pour l'afficher une carte dans streamlit\n",
    "df = df[[\"decimalLatitude\",\"decimalLongitude\"]]\n",
    "\n",
    "df.to_csv (\"mapmonde\")"
   ]
  }
 ],
 "metadata": {
  "interpreter": {
   "hash": "7b4b4feff2f24a0f0a34464dbe537a36fda679851528fb8735cb41fa49dffb2d"
  },
  "kernelspec": {
   "display_name": "Python 3.8.8 64-bit ('base': conda)",
   "name": "python3"
  },
  "language_info": {
   "codemirror_mode": {
    "name": "ipython",
    "version": 3
   },
   "file_extension": ".py",
   "mimetype": "text/x-python",
   "name": "python",
   "nbconvert_exporter": "python",
   "pygments_lexer": "ipython3",
   "version": "3.8.8"
  },
  "orig_nbformat": 4
 },
 "nbformat": 4,
 "nbformat_minor": 2
}
