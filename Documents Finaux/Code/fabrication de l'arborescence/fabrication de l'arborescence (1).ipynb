{
 "cells": [
  {
   "cell_type": "code",
   "execution_count": 1,
   "id": "0cb827f3",
   "metadata": {},
   "outputs": [],
   "source": [
    "import pandas as pd\n",
    "import os\n"
   ]
  },
  {
   "cell_type": "code",
   "execution_count": 3,
   "id": "b324309c",
   "metadata": {},
   "outputs": [
    {
     "data": {
      "text/html": [
       "<div>\n",
       "<style scoped>\n",
       "    .dataframe tbody tr th:only-of-type {\n",
       "        vertical-align: middle;\n",
       "    }\n",
       "\n",
       "    .dataframe tbody tr th {\n",
       "        vertical-align: top;\n",
       "    }\n",
       "\n",
       "    .dataframe thead th {\n",
       "        text-align: right;\n",
       "    }\n",
       "</style>\n",
       "<table border=\"1\" class=\"dataframe\">\n",
       "  <thead>\n",
       "    <tr style=\"text-align: right;\">\n",
       "      <th></th>\n",
       "      <th>Unnamed: 0</th>\n",
       "      <th>id</th>\n",
       "      <th>identifier_y</th>\n",
       "      <th>order</th>\n",
       "      <th>family</th>\n",
       "      <th>genus</th>\n",
       "      <th>species</th>\n",
       "      <th>verbatimScientificName</th>\n",
       "      <th>countryCode</th>\n",
       "      <th>decimalLatitude</th>\n",
       "      <th>decimalLongitude</th>\n",
       "      <th>hasCoordinate</th>\n",
       "      <th>path</th>\n",
       "      <th>notreid</th>\n",
       "    </tr>\n",
       "  </thead>\n",
       "  <tbody>\n",
       "    <tr>\n",
       "      <th>0</th>\n",
       "      <td>0</td>\n",
       "      <td>2438770494</td>\n",
       "      <td>https://images.ala.org.au/image/proxyImageThum...</td>\n",
       "      <td>Agaricales</td>\n",
       "      <td>Hygrophoraceae</td>\n",
       "      <td>Hygrocybe</td>\n",
       "      <td>Hygrocybe hypospoda</td>\n",
       "      <td>Hygrocybe hypospoda</td>\n",
       "      <td>AU</td>\n",
       "      <td>-39.020600</td>\n",
       "      <td>146.336100</td>\n",
       "      <td>True</td>\n",
       "      <td>/Agaricales/Hygrophoraceae/Hygrocybe/Hygrocybe...</td>\n",
       "      <td>0</td>\n",
       "    </tr>\n",
       "    <tr>\n",
       "      <th>1</th>\n",
       "      <td>1</td>\n",
       "      <td>2438770494</td>\n",
       "      <td>https://images.ala.org.au/image/proxyImageThum...</td>\n",
       "      <td>Agaricales</td>\n",
       "      <td>Hygrophoraceae</td>\n",
       "      <td>Hygrocybe</td>\n",
       "      <td>Hygrocybe hypospoda</td>\n",
       "      <td>Hygrocybe hypospoda</td>\n",
       "      <td>AU</td>\n",
       "      <td>-39.020600</td>\n",
       "      <td>146.336100</td>\n",
       "      <td>True</td>\n",
       "      <td>/Agaricales/Hygrophoraceae/Hygrocybe/Hygrocybe...</td>\n",
       "      <td>1</td>\n",
       "    </tr>\n",
       "    <tr>\n",
       "      <th>2</th>\n",
       "      <td>2</td>\n",
       "      <td>2434842541</td>\n",
       "      <td>https://images.ala.org.au/image/proxyImageThum...</td>\n",
       "      <td>Agaricales</td>\n",
       "      <td>Mycenaceae</td>\n",
       "      <td>Mycena</td>\n",
       "      <td>Mycena mulawaestris</td>\n",
       "      <td>Mycena mulawaestris</td>\n",
       "      <td>AU</td>\n",
       "      <td>-37.666667</td>\n",
       "      <td>145.733333</td>\n",
       "      <td>True</td>\n",
       "      <td>/Agaricales/Mycenaceae/Mycena/Mycena mulawaest...</td>\n",
       "      <td>2</td>\n",
       "    </tr>\n",
       "    <tr>\n",
       "      <th>3</th>\n",
       "      <td>3</td>\n",
       "      <td>2435361192</td>\n",
       "      <td>https://images.ala.org.au/image/proxyImageThum...</td>\n",
       "      <td>Russulales</td>\n",
       "      <td>Bondarzewiaceae</td>\n",
       "      <td>Amylosporus</td>\n",
       "      <td>Amylosporus campbellii</td>\n",
       "      <td>Amylosporus campbellii</td>\n",
       "      <td>MM</td>\n",
       "      <td>NaN</td>\n",
       "      <td>NaN</td>\n",
       "      <td>False</td>\n",
       "      <td>/Russulales/Bondarzewiaceae/Amylosporus/Amylos...</td>\n",
       "      <td>3</td>\n",
       "    </tr>\n",
       "    <tr>\n",
       "      <th>4</th>\n",
       "      <td>4</td>\n",
       "      <td>2438837736</td>\n",
       "      <td>https://images.ala.org.au/image/proxyImageThum...</td>\n",
       "      <td>Agaricales</td>\n",
       "      <td>Agaricaceae</td>\n",
       "      <td>Barcheria</td>\n",
       "      <td>Barcheria willisiana</td>\n",
       "      <td>Barcheria willisiana</td>\n",
       "      <td>AU</td>\n",
       "      <td>-32.176100</td>\n",
       "      <td>121.399700</td>\n",
       "      <td>True</td>\n",
       "      <td>/Agaricales/Agaricaceae/Barcheria/Barcheria wi...</td>\n",
       "      <td>4</td>\n",
       "    </tr>\n",
       "  </tbody>\n",
       "</table>\n",
       "</div>"
      ],
      "text/plain": [
       "   Unnamed: 0          id                                       identifier_y  \\\n",
       "0           0  2438770494  https://images.ala.org.au/image/proxyImageThum...   \n",
       "1           1  2438770494  https://images.ala.org.au/image/proxyImageThum...   \n",
       "2           2  2434842541  https://images.ala.org.au/image/proxyImageThum...   \n",
       "3           3  2435361192  https://images.ala.org.au/image/proxyImageThum...   \n",
       "4           4  2438837736  https://images.ala.org.au/image/proxyImageThum...   \n",
       "\n",
       "        order           family        genus                 species  \\\n",
       "0  Agaricales   Hygrophoraceae    Hygrocybe     Hygrocybe hypospoda   \n",
       "1  Agaricales   Hygrophoraceae    Hygrocybe     Hygrocybe hypospoda   \n",
       "2  Agaricales       Mycenaceae       Mycena     Mycena mulawaestris   \n",
       "3  Russulales  Bondarzewiaceae  Amylosporus  Amylosporus campbellii   \n",
       "4  Agaricales      Agaricaceae    Barcheria    Barcheria willisiana   \n",
       "\n",
       "   verbatimScientificName countryCode  decimalLatitude  decimalLongitude  \\\n",
       "0     Hygrocybe hypospoda          AU       -39.020600        146.336100   \n",
       "1     Hygrocybe hypospoda          AU       -39.020600        146.336100   \n",
       "2     Mycena mulawaestris          AU       -37.666667        145.733333   \n",
       "3  Amylosporus campbellii          MM              NaN               NaN   \n",
       "4    Barcheria willisiana          AU       -32.176100        121.399700   \n",
       "\n",
       "   hasCoordinate                                               path  notreid  \n",
       "0           True  /Agaricales/Hygrophoraceae/Hygrocybe/Hygrocybe...        0  \n",
       "1           True  /Agaricales/Hygrophoraceae/Hygrocybe/Hygrocybe...        1  \n",
       "2           True  /Agaricales/Mycenaceae/Mycena/Mycena mulawaest...        2  \n",
       "3          False  /Russulales/Bondarzewiaceae/Amylosporus/Amylos...        3  \n",
       "4           True  /Agaricales/Agaricaceae/Barcheria/Barcheria wi...        4  "
      ]
     },
     "execution_count": 3,
     "metadata": {},
     "output_type": "execute_result"
    }
   ],
   "source": [
    "df=pd.read_csv(\"allpathidclear.csv\")\n",
    "df.head()"
   ]
  },
  {
   "cell_type": "code",
   "execution_count": 8,
   "id": "84b928f9",
   "metadata": {},
   "outputs": [],
   "source": [
    "g=[]\n",
    "g=df[\"order\"].unique()"
   ]
  },
  {
   "cell_type": "code",
   "execution_count": 13,
   "id": "37eb9e92",
   "metadata": {},
   "outputs": [],
   "source": [
    "spath=r\"C:\\Users\\baugn\\Mush\\esperons\""
   ]
  },
  {
   "cell_type": "code",
   "execution_count": 15,
   "id": "83c92f24",
   "metadata": {},
   "outputs": [],
   "source": [
    "for i in g:\n",
    "    os.mkdir(os.path.join(spath, i))     #première couche de dossier (order)\n",
    "    "
   ]
  },
  {
   "cell_type": "code",
   "execution_count": 24,
   "id": "d1ac1f3b",
   "metadata": {},
   "outputs": [],
   "source": [
    "for i in g:\n",
    "    for j in df[df[\"order\"]==i][\"family\"].unique():    #deuxième couche de dossier (family)\n",
    "        os.mkdir(os.path.join(os.path.join(spath,i),j))"
   ]
  },
  {
   "cell_type": "code",
   "execution_count": 27,
   "id": "57b16e5e",
   "metadata": {},
   "outputs": [],
   "source": [
    "for i in g:\n",
    "    for j in df[df[\"order\"]==i][\"family\"].unique():         #troisieme couche de dossier  (genus)\n",
    "        for k in df[df[\"family\"]==j][\"genus\"].unique():\n",
    "            os.mkdir(os.path.join(os.path.join(os.path.join(spath,i),j),k))"
   ]
  },
  {
   "cell_type": "code",
   "execution_count": 30,
   "id": "df774939",
   "metadata": {},
   "outputs": [],
   "source": [
    "for i in g:\n",
    "    for j in df[df[\"order\"]==i][\"family\"].unique():                   #quatrième couche de dossier(spécies)\n",
    "        for k in df[df[\"family\"]==j][\"genus\"].unique():\n",
    "            for l in df[df[\"genus\"]==k][\"species\"].unique():\n",
    "                os.mkdir(os.path.join(os.path.join(os.path.join(os.path.join(spath,i),j),k),l))"
   ]
  },
  {
   "cell_type": "code",
   "execution_count": null,
   "id": "604d3827",
   "metadata": {},
   "outputs": [],
   "source": []
  }
 ],
 "metadata": {
  "kernelspec": {
   "display_name": "Python 3 (ipykernel)",
   "language": "python",
   "name": "python3"
  },
  "language_info": {
   "codemirror_mode": {
    "name": "ipython",
    "version": 3
   },
   "file_extension": ".py",
   "mimetype": "text/x-python",
   "name": "python",
   "nbconvert_exporter": "python",
   "pygments_lexer": "ipython3",
   "version": "3.7.11"
  }
 },
 "nbformat": 4,
 "nbformat_minor": 5
}
